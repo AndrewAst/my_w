{
  "nbformat": 4,
  "nbformat_minor": 0,
  "metadata": {
    "colab": {
      "name": "Копия блокнота \"HW_7_lesson.ipynb\"",
      "provenance": [],
      "collapsed_sections": []
    },
    "kernelspec": {
      "name": "python3",
      "display_name": "Python 3"
    }
  },
  "cells": [
    {
      "cell_type": "markdown",
      "metadata": {
        "id": "PDkG3Bis38V_"
      },
      "source": [
        "#https://colab.research.google.com/drive/11KSZ2t5_AodyXFVyVlRjs8D9uzvawJ3x?usp=sharing\n",
        "# Домашнее задание к 7 уроку.\n",
        "\n",
        "**Дедлайн: 23.12.2020**"
      ]
    },
    {
      "cell_type": "markdown",
      "metadata": {
        "id": "T_frQ-789isH"
      },
      "source": [
        "colab: https://colab.research.google.com/drive/1KLD5pDCa0ka_g1U4D2ExihaaEwXzfTPW?usp=sharing"
      ]
    },
    {
      "cell_type": "markdown",
      "metadata": {
        "id": "PzhnPFbL3igE"
      },
      "source": [
        "**ФОРМАТ ОТЧЕТНОСТИ:** pdf-файл с решенными задачами (задачи 2-9), ноутбук с проверкой решения этих задач (при помощи numpy), и pdf файл с отчетом по 1-ой задаче (краткий пересказ статьи). Вы можете оформить решения с использованием Markdown (писать текст прямо в юпитер ноутбуке), Latex, Word или же решить в тетради и сформировать pdf из фото.\n",
        "\n",
        "Итого: 2 pdf файла.\n",
        "\n",
        "Все задания необходимо выполнять ВРУЧНУЮ. А также проверить корректность полученных результатов с использованием Numpy.\n",
        "\n",
        "Туториал как писать \"Latex-формулы\" прямо в Юпитере:\n",
        "https://www.youtube.com/watch?v=vSc25kdgecg\n",
        "\n",
        "Ноутбук с примером формул: https://nbviewer.jupyter.org/github/postlogist/course_opt/blob/master/jupyter_tutorial/02_markdown.ipynb\n"
      ]
    },
    {
      "cell_type": "markdown",
      "metadata": {
        "id": "RU2u4fG55fBq"
      },
      "source": [
        "## Пример\n",
        "\n",
        "\n",
        "Найдем ранг матрицы \n",
        "\n",
        "$$\\begin{pmatrix}\n",
        "1 & 2 & 3 & 4 & 5\\\\ \n",
        "2 & 5 & 8 & 11 & 14\\\\ \n",
        "3 & 9 & 14 & 20 & 26\\\\ \n",
        "5 & 14 & 22 & 31 & 40\n",
        "\\end{pmatrix}.$$\n",
        "\n",
        "Четвертая строка является суммой второй и третьей строк, а значит, ее можно отбросить:\n",
        "\n",
        "$$\\begin{pmatrix}\n",
        "1 & 2 & 3 & 4 & 5\\\\ \n",
        "2 & 5 & 8 & 11 & 14\\\\ \n",
        "3 & 9 & 14 & 20 & 26\n",
        "\\end{pmatrix}.$$\n",
        "\n",
        "Из второй и третьей строк вычтем первую, умноженную на $2$ и $3$ соответственно:\n",
        "\n",
        "$$\\begin{pmatrix}\n",
        "1 & 2 & 3 & 4 & 5\\\\ \n",
        "0 & 1 & 2 & 3 & 4\\\\ \n",
        "0 & 2 & 5 & 8 & 11\n",
        "\\end{pmatrix}.$$\n",
        "\n",
        "И вычтем из третьей строки вторую, умноженную на $2$:\n",
        "\n",
        "$$\\begin{pmatrix}\n",
        "1 & 2 & 3 & 4 & 5\\\\ \n",
        "0 & 1 & 2 & 3 & 4\\\\ \n",
        "0 & 0 & 1 & 2 & 3\n",
        "\\end{pmatrix}.$$\n",
        "\n",
        "Таким образом, ранг матрицы равен $3$."
      ]
    },
    {
      "cell_type": "code",
      "metadata": {
        "colab": {
          "base_uri": "https://localhost:8080/"
        },
        "id": "c3mJUpE65vak",
        "outputId": "5a5debbc-1a4a-47a5-8b35-9b40b7caf531"
      },
      "source": [
        "# Проверка\n",
        "\n",
        "import numpy as np\n",
        "a = [1, 2, 3, 4, 5]\n",
        "b = [2, 5, 8, 11, 14]\n",
        "c = [3, 9, 14, 20, 26]\n",
        "d = [5, 14, 22, 31, 40]\n",
        "\n",
        "x = np.array([a, b, c, d])\n",
        "r = np.linalg.matrix_rank(x)\n",
        "\n",
        "print(f'Ранг матрицы: {r}')"
      ],
      "execution_count": null,
      "outputs": [
        {
          "output_type": "stream",
          "text": [
            "Ранг матрицы: 3\n"
          ],
          "name": "stdout"
        }
      ]
    },
    {
      "cell_type": "markdown",
      "metadata": {
        "id": "1NlQHLnE5iV-"
      },
      "source": [
        "# Задачи"
      ]
    },
    {
      "cell_type": "markdown",
      "metadata": {
        "id": "oOoLPT-d232H"
      },
      "source": [
        "**1.** Прочитать статью http://www.scielo.org.mx/pdf/cys/v18n3/v18n3a7.pdf и сделать следующее:\n",
        "\n",
        "- Написать кратко (не более 300 слов (минимум 100), отчет в формате pdf) о различиях между cosine similarity и soft similarity. Привести примеры использования и написать собственный пример вычисления cosine similarity и soft similarity для произвольных векторов (не брать вектора из статьи! надо самим придумать координаты/размерность векторов)"
      ]
    },
    {
      "cell_type": "markdown",
      "metadata": {
        "id": "2A79cNRu3BUA"
      },
      "source": [
        "__2.__ Найти сумму и произведение матриц $A=\\begin{pmatrix}\n",
        "1 & -2\\\\ \n",
        "3 & 0\n",
        "\\end{pmatrix}$ и $B=\\begin{pmatrix}\n",
        "4 & -1\\\\ \n",
        "0 & 5\n",
        "\\end{pmatrix}.$\n",
        "\n",
        "__3.__ Из закономерностей сложения и умножения матриц на число можно сделать вывод, что матрицы одного размера образуют линейное пространство. Вычислить линейную комбинацию $3A-2B+4C$ для матриц $A=\\begin{pmatrix}\n",
        "1 & 7\\\\ \n",
        "3 & -6\n",
        "\\end{pmatrix}$, $B=\\begin{pmatrix}\n",
        "0 & 5\\\\ \n",
        "2 & -1\n",
        "\\end{pmatrix}$, $C=\\begin{pmatrix}\n",
        "2 & -4\\\\ \n",
        "1 & 1\n",
        "\\end{pmatrix}.$\n",
        "    \n",
        "__4.__ Дана матрица $A=\\begin{pmatrix}\n",
        "4 & 1\\\\ \n",
        "5 & -2\\\\ \n",
        "2 & 3\n",
        "\\end{pmatrix}$.\n",
        "Вычислить $AA^{T}$ и $A^{T}A$.\n",
        "\n",
        "__5*.__ Написать на Python функцию для перемножения двух произвольных матриц, не используя NumPy."
      ]
    },
    {
      "cell_type": "markdown",
      "metadata": {
        "id": "-naSOZaf3L7s"
      },
      "source": [
        "\n",
        "__6.__ Вычислить определитель (используйте любой удобный для вас способ вычисления определителя: через миноры, через перестановки или другой):\n",
        "\n",
        "   a)\n",
        "\n",
        "$$\\begin{vmatrix}\n",
        "sinx & -cosx\\\\ \n",
        "cosx & sinx\n",
        "\\end{vmatrix};$$\n",
        "\n",
        "   б)\n",
        "    \n",
        "$$\\begin{vmatrix}\n",
        "8 & 4 & 6\\\\ \n",
        "0 & 5 & 1\\\\ \n",
        "0 & 0 & 9\n",
        "\\end{vmatrix};$$\n",
        "    \n",
        "   в)\n",
        "\n",
        "$$\\begin{vmatrix}\n",
        "2 & 3 & 4\\\\ \n",
        "5 & 6 & 7\\\\ \n",
        "8 & 9 & 10\n",
        "\\end{vmatrix}.$$\n",
        "\n",
        "\n",
        "__7.__ Определитель матрицы $A$ равен $4$. Найти:\n",
        "\n",
        "   а) $det(A^{2})$;\n",
        "    \n",
        "   б) $det(A^{T})$;\n",
        "    \n",
        "   в) $det(2A)$.\n",
        "   \n",
        "__8.__  Доказать, что матрица\n",
        "\n",
        "$$\\begin{pmatrix}\n",
        "-2 & 7 & -3\\\\ \n",
        "4 & -14 & 6\\\\ \n",
        "-3 & 7 & 13\n",
        "\\end{pmatrix}$$\n",
        "   \n",
        "вырожденная.\n",
        "\n",
        "__9.__ Найти ранг матрицы:\n",
        "\n",
        "   а) $\\begin{pmatrix}\n",
        "1 & 2 & 3\\\\ \n",
        "1 & 1 & 1\\\\ \n",
        "2 & 3 & 4\n",
        "\\end{pmatrix};$\n",
        "\n",
        "   б) $\\begin{pmatrix}\n",
        "0 & 0 & 2 & 1\\\\ \n",
        "0 & 0 & 2 & 2\\\\ \n",
        "0 & 0 & 4 & 3\\\\ \n",
        "2 & 3 & 5 & 6\n",
        "\\end{pmatrix}.$"
      ]
    },
    {
      "cell_type": "markdown",
      "metadata": {
        "id": "ekAaqmaE3E1T"
      },
      "source": [
        "# Доп материалы\n",
        "1. [Способы задать матрицу в NumPy](https://docs.scipy.org/doc/numpy-1.10.1/user/basics.creation.html).\n",
        "2. [numpy.transpose](https://docs.scipy.org/doc/numpy-1.10.0/reference/generated/numpy.transpose.html).\n",
        "3. [array.T](https://docs.scipy.org/doc/numpy-1.10.0/reference/generated/numpy.ndarray.T.html).\n",
        "4. [Перемножение матриц в NumPy](https://docs.scipy.org/doc/numpy-1.10.0/reference/routines.linalg.html#matrix-and-vector-products).\n",
        "\n",
        "5. [Определитель матрицы в NumPy](https://docs.scipy.org/doc/numpy-1.14.2/reference/generated/numpy.linalg.det.html)\n",
        "\n",
        "6. [Ранг матрицы в NumPy](https://docs.scipy.org/doc/numpy-1.14.2/reference/generated/numpy.linalg.matrix_rank.html)\n",
        "\n",
        "7. [Обращение матриц в NumPy](https://docs.scipy.org/doc/numpy/reference/generated/numpy.linalg.inv.html)"
      ]
    },
    {
      "cell_type": "code",
      "metadata": {
        "colab": {
          "base_uri": "https://localhost:8080/"
        },
        "id": "ZWmwVKAmgezg",
        "outputId": "2ea28023-2271-4934-88ad-8e2a5755a307"
      },
      "source": [
        "#Задача №2\r\n",
        "import numpy as np\r\n",
        "a = np.array([[1, -2], [3, 0]])\r\n",
        "b = np.array([[4, -1], [0, 5]]) \r\n",
        "\r\n",
        "print(f'Матрица A\\n{a}\\n')\r\n",
        "print(f'Матрица B\\n{b}\\n')\r\n",
        "print(f'Матрица С = A + B\\n{a + b}')\r\n",
        "print(f'Матрица D = A * B\\n{a * b}')"
      ],
      "execution_count": 2,
      "outputs": [
        {
          "output_type": "stream",
          "text": [
            "Матрица A\n",
            "[[ 1 -2]\n",
            " [ 3  0]]\n",
            "\n",
            "Матрица B\n",
            "[[ 4 -1]\n",
            " [ 0  5]]\n",
            "\n",
            "Матрица С = A + B\n",
            "[[ 5 -3]\n",
            " [ 3  5]]\n",
            "Матрица D = A * B\n",
            "[[4 2]\n",
            " [0 0]]\n"
          ],
          "name": "stdout"
        }
      ]
    },
    {
      "cell_type": "code",
      "metadata": {
        "colab": {
          "base_uri": "https://localhost:8080/"
        },
        "id": "UowaQv_mitNn",
        "outputId": "e91fbd0e-bc47-48b9-d8ea-ad78050ff14a"
      },
      "source": [
        "#Задача №3\r\n",
        "a = np.array([[1, 7], [3, -6]])\r\n",
        "b = np.array([[0, 5], [2, -1]])  \r\n",
        "c = np.array([[2, -4], [1, 1]])\r\n",
        "print(f'Матрица D = 3*A - 2*B + 4*С\\n{3*a - 2 * b + 4 * c}')"
      ],
      "execution_count": 3,
      "outputs": [
        {
          "output_type": "stream",
          "text": [
            "Матрица D = 3*A - 2*B + 4*С\n",
            "[[ 11  -5]\n",
            " [  9 -12]]\n"
          ],
          "name": "stdout"
        }
      ]
    },
    {
      "cell_type": "code",
      "metadata": {
        "colab": {
          "base_uri": "https://localhost:8080/"
        },
        "id": "1d4VarBkpRRl",
        "outputId": "eeb8c836-4f0c-4f01-a557-79343e095eab"
      },
      "source": [
        "#Задача №4\r\n",
        "a = np.array([[4, 1], [5, -2], [2, 3]])\r\n",
        "b = a.T\r\n",
        "print(f'A*AT:\\n{np.dot(a, b)}')\r\n",
        "print(f'AT*A:\\n{np.dot(b, a)}')"
      ],
      "execution_count": 4,
      "outputs": [
        {
          "output_type": "stream",
          "text": [
            "A*AT:\n",
            "[[17 18 11]\n",
            " [18 29  4]\n",
            " [11  4 13]]\n",
            "AT*A:\n",
            "[[45  0]\n",
            " [ 0 14]]\n"
          ],
          "name": "stdout"
        }
      ]
    },
    {
      "cell_type": "code",
      "metadata": {
        "id": "FPPCI0gkqwPs",
        "colab": {
          "base_uri": "https://localhost:8080/"
        },
        "outputId": "453dd41e-989f-45f1-c92a-fbd303a40b22"
      },
      "source": [
        "#Задача №5 \r\n",
        "# Вариант 1\r\n",
        "matrix1 = [[1, 2, 3], [4, 5, 6], [7, 8, 9]]\r\n",
        "matrix2 = [[2, 3, 4], [6,7,3], [4, 5, 9]]\r\n",
        "res = [[0 for x in range(3)] for y in range(3)] \r\n",
        "for i in range(len(matrix1)):\r\n",
        "    for j in range(len(matrix2[0])):\r\n",
        "        for k in range(len(matrix2)):\r\n",
        "            # приведенная матрица\r\n",
        "            res[i][j] += matrix1[i][k] * matrix2[k][j]\r\n",
        "print (res)\r\n",
        "\r\n",
        "#Вариант 2\r\n",
        "def func():  \r\n",
        "    r1 = int(input('Элементов в строке в матрицы1: '))\r\n",
        "    c1 = int(input('Элементов в солбце в матрицы1: ')) \r\n",
        "    r2 = int(input('Элементов в строке в матрицы2: '))\r\n",
        "    c2 = int(input('Элементов в солбце в матрицы2: '))\r\n",
        "    print('Вводим элементы матрицы A')\r\n",
        "    A = []\r\n",
        "    for i in range(r1) :\r\n",
        "        A.append([])\r\n",
        "        for j in range(c1) :\r\n",
        "            A[i].append(int(input()))        \r\n",
        "    print('A = ')\r\n",
        "    for q in A :\r\n",
        "        print(q)\r\n",
        "    print('Вводим элементы матрицы B')\r\n",
        "    B = []\r\n",
        "    for q in range(r2) :\r\n",
        "        B.append([])\r\n",
        "        for w in range(c2) :\r\n",
        "            B[q].append(int(input()))\r\n",
        "    print('B = ')\r\n",
        "    for q in B :\r\n",
        "        print(q)\r\n",
        "    s=0     #сумма\r\n",
        "    t=[]    #временная матрица\r\n",
        "    C=[] # конечная матрица\r\n",
        "    if len(B)!=len(A[0]):\r\n",
        "        print (\"Матрицы не могут быть перемножены\")        \r\n",
        "    else:\r\n",
        "        r1=len(A) #количество строк в первой матрице\r\n",
        "        c1=len(A[0]) #Количество столбцов в 1   \r\n",
        "        r2=c1           #и строк во 2ой матрице\r\n",
        "        c2=len(B[0])  # количество столбцов во 2ой матрице\r\n",
        "        for z in range(0,r1):\r\n",
        "            for j in range(0,c2):\r\n",
        "                for i in range(0,c1):\r\n",
        "                   s=s+A[z][i]*B[i][j]\r\n",
        "                t.append(s)\r\n",
        "                s=0\r\n",
        "            C.append(t)\r\n",
        "            t=[]           \r\n",
        "    return C"
      ],
      "execution_count": 5,
      "outputs": [
        {
          "output_type": "stream",
          "text": [
            "[[26, 32, 37], [62, 77, 85], [98, 122, 133]]\n"
          ],
          "name": "stdout"
        }
      ]
    },
    {
      "cell_type": "code",
      "metadata": {
        "id": "fm2QuYBs0Vjd",
        "colab": {
          "base_uri": "https://localhost:8080/"
        },
        "outputId": "11584ad7-72b9-4221-8353-0182fc93429a"
      },
      "source": [
        "#Задача №6\r\n",
        "import numpy as np\r\n",
        "a = np.array([[8, 4, 6], [0, 5, 1], [0, 0, 9]])\r\n",
        "print(f'Матрица:\\n{a}')\r\n",
        "print(f'Определитель:\\n{np.linalg.det(a):.0f}')\r\n",
        "\r\n",
        "b = np.array([[2, 3, 4], [5, 6, 7], [8, 9, 10]])\r\n",
        "print(f'Матрица:\\n{b}')\r\n",
        "print(f'Определитель:\\n{np.linalg.det(b):.0f}')"
      ],
      "execution_count": 14,
      "outputs": [
        {
          "output_type": "stream",
          "text": [
            "Матрица:\n",
            "[[8 4 6]\n",
            " [0 5 1]\n",
            " [0 0 9]]\n",
            "Определитель:\n",
            "360\n",
            "Матрица:\n",
            "[[ 2  3  4]\n",
            " [ 5  6  7]\n",
            " [ 8  9 10]]\n",
            "Определитель:\n",
            "0\n"
          ],
          "name": "stdout"
        }
      ]
    },
    {
      "cell_type": "code",
      "metadata": {
        "colab": {
          "base_uri": "https://localhost:8080/"
        },
        "id": "JSQ_UriV94oI",
        "outputId": "226e5b0d-050d-4705-90b6-fc4b6485e681"
      },
      "source": [
        "#8\r\n",
        "a = np.array([[-2, 7, -3], [4, -14, 6], [-3, 7, 13]], dtype=float)\r\n",
        "print(f'Матрица:\\n{a}')\r\n",
        "print(f'Определитель:\\n{np.linalg.det(a):.0f}')"
      ],
      "execution_count": 17,
      "outputs": [
        {
          "output_type": "stream",
          "text": [
            "Матрица:\n",
            "[[ -2.   7.  -3.]\n",
            " [  4. -14.   6.]\n",
            " [ -3.   7.  13.]]\n",
            "Определитель:\n",
            "0\n"
          ],
          "name": "stdout"
        }
      ]
    },
    {
      "cell_type": "code",
      "metadata": {
        "id": "_sNzsXOhFJcT"
      },
      "source": [
        "#8 продолжение (определитель равен 0, соответственно обратной матрицы не существует, выходит что матрица a вырождена)\r\n",
        "a = np.array([[-2, 7, -3], [4, -14, 6], [-3, 7, 13]], dtype=float)\r\n",
        "b = np.linalg.inv(a)\r\n",
        "print(f'Матрица A:\\n{a}\\n')\r\n",
        "print(f'Матрица B, обратная к A:\\n{b}\\n')\r\n",
        "print(f'Матрица AB (должна быть единичной):\\n{a.dot(b)}')"
      ],
      "execution_count": null,
      "outputs": []
    },
    {
      "cell_type": "code",
      "metadata": {
        "colab": {
          "base_uri": "https://localhost:8080/"
        },
        "id": "R2LVm0cVFbU8",
        "outputId": "11491dd9-fb54-44eb-b2c2-56a2fbfffcf6"
      },
      "source": [
        "#Задача 9\r\n",
        "x = [1, 2, 3]\r\n",
        "y = [1, 1, 1]\r\n",
        "z = [2, 3, 4]\r\n",
        "a = np.array([x, y, z])\r\n",
        "r = np.linalg.matrix_rank(a)\r\n",
        "\r\n",
        "print(f'Ранг матрицы а: {r}')"
      ],
      "execution_count": 20,
      "outputs": [
        {
          "output_type": "stream",
          "text": [
            "Ранг матрицы а: 2\n"
          ],
          "name": "stdout"
        }
      ]
    },
    {
      "cell_type": "code",
      "metadata": {
        "colab": {
          "base_uri": "https://localhost:8080/"
        },
        "id": "uOoehc0iJ0Ga",
        "outputId": "52d8cce0-5f24-42c0-fc3c-75bf91bf2f29"
      },
      "source": [
        "#Задача 9 (часть 2)\r\n",
        "x = [0, 0, 2, 1]\r\n",
        "y = [0, 0, 1, 1]\r\n",
        "z = [0, 0, 4, 3]\r\n",
        "q = [2, 3, 5, 6]\r\n",
        "b = np.array([x, y, z, q])\r\n",
        "r = np.linalg.matrix_rank(b)\r\n",
        "\r\n",
        "print(f'Ранг матрицы b: {r}')"
      ],
      "execution_count": 21,
      "outputs": [
        {
          "output_type": "stream",
          "text": [
            "Ранг матрицы b: 3\n"
          ],
          "name": "stdout"
        }
      ]
    }
  ]
}