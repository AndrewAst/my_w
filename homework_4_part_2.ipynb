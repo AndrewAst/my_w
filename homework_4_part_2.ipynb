{
  "nbformat": 4,
  "nbformat_minor": 0,
  "metadata": {
    "colab": {
      "name": "Копия блокнота \"Part_1.Intro_to_SQL.ipynb\"",
      "provenance": [],
      "collapsed_sections": []
    },
    "kernelspec": {
      "name": "python3",
      "display_name": "Python 3"
    }
  },
  "cells": [
    {
      "cell_type": "markdown",
      "metadata": {
        "id": "80t2tnksleip"
      },
      "source": [
        "https://colab.research.google.com/drive/1eQaSFup6OygEUSWtQz2HIcSIGiebbu7T?usp=sharing\n",
        "\n",
        "# План занятия\n",
        " - Локальные БД. Работа с библиотекой sqlite3\n",
        " - Представление БД с использованием Pandas\n",
        " - Удаленные БД. Работа с библиотекой SQLAlchemy"
      ]
    },
    {
      "cell_type": "markdown",
      "metadata": {
        "id": "sB8DjZif3tZA"
      },
      "source": [
        "# Введение\n",
        "\n",
        "База данных может храниться локально, на том же компьютере, на котором запускается прикладное программное обеспечение для работы с базой данных или на удаленном компьютере.\n",
        "\n",
        "Google Colab (точнее Python, запускаемый в среде Google Colab) позволяет работать и с условно «локальной» базой данных и с базой данных на удаленном сервере. \n",
        "- В первом случае может использоваться СУБД **SQLite**, которая будет хранится на облачном диске Google Drive. Для среды Google Colab это будет локальная БД.\n",
        "- В случае работы с удаленной БД можно использовать **SQLAlchemy**.\n",
        "\n",
        "Оба модуля **SQLite** и **SQLAlchemy** рассмотрим ниже."
      ]
    },
    {
      "cell_type": "markdown",
      "metadata": {
        "id": "ua_DcBGgE-rm"
      },
      "source": [
        "# SQLite\n",
        "\n",
        "**SQLite** — компактная встраиваемая реляционная база данных. Является чисто реляционной базой данных.\n",
        "\n",
        "Слово «встраиваемый» означает, что SQLite **не использует парадигму клиент-сервер.** Модуль sqlite3 входит в установочный пакет языка Python, является компонентом стандартной библиотеки и не требует отдельной загрузки и установки."
      ]
    },
    {
      "cell_type": "markdown",
      "metadata": {
        "id": "Q1eGsLrqktGT"
      },
      "source": [
        "Pipeline для работы с БД при помощи библиотеки SQLite"
      ]
    },
    {
      "cell_type": "markdown",
      "metadata": {
        "id": "xwDpJHvGk1VI"
      },
      "source": [
        "``` \n",
        "import sqlite3\n",
        "\n",
        "conn = sqlite3.connect(path)\n",
        "\n",
        "cursor = conn.cursor()\n",
        "\n",
        "# Работа с БД\n",
        "# ...\n",
        "# ...\n",
        "\n",
        "cursor.close()\n",
        "conn.close()\n",
        "```"
      ]
    },
    {
      "cell_type": "markdown",
      "metadata": {
        "id": "uBs-HtlahVnd"
      },
      "source": [
        "## Подключение к базе данных"
      ]
    },
    {
      "cell_type": "markdown",
      "metadata": {
        "id": "L_jaMIJM3j_K"
      },
      "source": [
        "Для доступа к диску Google Drive сервису Google Colab необходимо дать разрешение на подключение к диску.\n",
        "\n",
        "Для подключения и разрешения доступа Google Colab к диску Google Drive используем следующий код:"
      ]
    },
    {
      "cell_type": "code",
      "metadata": {
        "colab": {
          "base_uri": "https://localhost:8080/"
        },
        "id": "dAglsJlB3OLq",
        "outputId": "2aef201f-0beb-401e-d49a-248ac1f012a4"
      },
      "source": [
        "from google.colab import drive\n",
        "drive.mount('/content/drive')"
      ],
      "execution_count": 1,
      "outputs": [
        {
          "output_type": "stream",
          "text": [
            "Mounted at /content/drive\n"
          ],
          "name": "stdout"
        }
      ]
    },
    {
      "cell_type": "markdown",
      "metadata": {
        "id": "Vbw0opr1hZC-"
      },
      "source": [
        "Подключаем модуль для работы с базой SQLite"
      ]
    },
    {
      "cell_type": "code",
      "metadata": {
        "id": "FZJh6NFAhaU_"
      },
      "source": [
        "import sqlite3"
      ],
      "execution_count": 2,
      "outputs": []
    },
    {
      "cell_type": "markdown",
      "metadata": {
        "id": "lkTvGLP-LZWv"
      },
      "source": [
        "Непосредственно модуль sqlite3 – это API к СУБД SQLite. Своего рода адаптер, который переводит команды, написанные на Питоне, в команды, которые понимает SQLite. Как и наоборот, доставляет ответы от SQLite в python-программу."
      ]
    },
    {
      "cell_type": "code",
      "metadata": {
        "colab": {
          "base_uri": "https://localhost:8080/"
        },
        "id": "QtG-Ux5fLdNq",
        "outputId": "ae2c126d-8232-4f2e-eb2f-afcb662b9916"
      },
      "source": [
        "dir(sqlite3)"
      ],
      "execution_count": 3,
      "outputs": [
        {
          "output_type": "execute_result",
          "data": {
            "text/plain": [
              "['Binary',\n",
              " 'Cache',\n",
              " 'Connection',\n",
              " 'Cursor',\n",
              " 'DataError',\n",
              " 'DatabaseError',\n",
              " 'Date',\n",
              " 'DateFromTicks',\n",
              " 'Error',\n",
              " 'IntegrityError',\n",
              " 'InterfaceError',\n",
              " 'InternalError',\n",
              " 'NotSupportedError',\n",
              " 'OperationalError',\n",
              " 'OptimizedUnicode',\n",
              " 'PARSE_COLNAMES',\n",
              " 'PARSE_DECLTYPES',\n",
              " 'PrepareProtocol',\n",
              " 'ProgrammingError',\n",
              " 'Row',\n",
              " 'SQLITE_ALTER_TABLE',\n",
              " 'SQLITE_ANALYZE',\n",
              " 'SQLITE_ATTACH',\n",
              " 'SQLITE_CREATE_INDEX',\n",
              " 'SQLITE_CREATE_TABLE',\n",
              " 'SQLITE_CREATE_TEMP_INDEX',\n",
              " 'SQLITE_CREATE_TEMP_TABLE',\n",
              " 'SQLITE_CREATE_TEMP_TRIGGER',\n",
              " 'SQLITE_CREATE_TEMP_VIEW',\n",
              " 'SQLITE_CREATE_TRIGGER',\n",
              " 'SQLITE_CREATE_VIEW',\n",
              " 'SQLITE_DELETE',\n",
              " 'SQLITE_DENY',\n",
              " 'SQLITE_DETACH',\n",
              " 'SQLITE_DROP_INDEX',\n",
              " 'SQLITE_DROP_TABLE',\n",
              " 'SQLITE_DROP_TEMP_INDEX',\n",
              " 'SQLITE_DROP_TEMP_TABLE',\n",
              " 'SQLITE_DROP_TEMP_TRIGGER',\n",
              " 'SQLITE_DROP_TEMP_VIEW',\n",
              " 'SQLITE_DROP_TRIGGER',\n",
              " 'SQLITE_DROP_VIEW',\n",
              " 'SQLITE_IGNORE',\n",
              " 'SQLITE_INSERT',\n",
              " 'SQLITE_OK',\n",
              " 'SQLITE_PRAGMA',\n",
              " 'SQLITE_READ',\n",
              " 'SQLITE_REINDEX',\n",
              " 'SQLITE_SELECT',\n",
              " 'SQLITE_TRANSACTION',\n",
              " 'SQLITE_UPDATE',\n",
              " 'Statement',\n",
              " 'Time',\n",
              " 'TimeFromTicks',\n",
              " 'Timestamp',\n",
              " 'TimestampFromTicks',\n",
              " 'Warning',\n",
              " '__builtins__',\n",
              " '__cached__',\n",
              " '__doc__',\n",
              " '__file__',\n",
              " '__loader__',\n",
              " '__name__',\n",
              " '__package__',\n",
              " '__path__',\n",
              " '__spec__',\n",
              " 'adapt',\n",
              " 'adapters',\n",
              " 'apilevel',\n",
              " 'collections',\n",
              " 'complete_statement',\n",
              " 'connect',\n",
              " 'converters',\n",
              " 'datetime',\n",
              " 'dbapi2',\n",
              " 'enable_callback_tracebacks',\n",
              " 'enable_shared_cache',\n",
              " 'paramstyle',\n",
              " 'register_adapter',\n",
              " 'register_converter',\n",
              " 'sqlite_version',\n",
              " 'sqlite_version_info',\n",
              " 'threadsafety',\n",
              " 'time',\n",
              " 'version',\n",
              " 'version_info']"
            ]
          },
          "metadata": {
            "tags": []
          },
          "execution_count": 3
        }
      ]
    },
    {
      "cell_type": "markdown",
      "metadata": {
        "id": "ktxOs6gxhkcv"
      },
      "source": [
        "Создадим папку \"my_databases\", где будут хранится наши БД"
      ]
    },
    {
      "cell_type": "code",
      "metadata": {
        "id": "hHke_8Vehq5G"
      },
      "source": [
        "import os\n",
        "path = \"./drive/My Drive/my_databases\"\n",
        "if not os.path.exists(path):\n",
        "    os.mkdir(path)"
      ],
      "execution_count": 4,
      "outputs": []
    },
    {
      "cell_type": "code",
      "metadata": {
        "colab": {
          "base_uri": "https://localhost:8080/"
        },
        "id": "LDDoqBLxTcaQ",
        "outputId": "a74b2885-967f-4010-d4ed-0e7769a3f5a3"
      },
      "source": [
        "os.path.exists(path)"
      ],
      "execution_count": 5,
      "outputs": [
        {
          "output_type": "execute_result",
          "data": {
            "text/plain": [
              "True"
            ]
          },
          "metadata": {
            "tags": []
          },
          "execution_count": 5
        }
      ]
    },
    {
      "cell_type": "markdown",
      "metadata": {
        "id": "ATDnFJTrhfKC"
      },
      "source": [
        "Подключаемся к базе test.db. Если этого файла нет в каталоге, то он будет создан.\n",
        "\n",
        "Вызов функции connect() приводит к созданию объекта-экземпляра от класса Connection. Этот объект обеспечивает связь с файлом базы данных, представляет конкретную БД в программе:"
      ]
    },
    {
      "cell_type": "code",
      "metadata": {
        "colab": {
          "base_uri": "https://localhost:8080/"
        },
        "id": "KV6p7ngjhins",
        "outputId": "0f09dc13-22ca-428c-9280-2ef6f34453fb"
      },
      "source": [
        "conn = sqlite3.connect(path + '/test.db')\n",
        "print(\"Opened database successfully\");"
      ],
      "execution_count": 6,
      "outputs": [
        {
          "output_type": "stream",
          "text": [
            "Opened database successfully\n"
          ],
          "name": "stdout"
        }
      ]
    },
    {
      "cell_type": "markdown",
      "metadata": {
        "id": "x3QgLWzeL3cn"
      },
      "source": [
        "После того как экземпляр Connection создан, чтобы выполнять SQL-команды, надо создать еще один объект, но теперь уже от класса Cursor. Делается это с помощью метода cursor() объекта типа Connection:"
      ]
    },
    {
      "cell_type": "code",
      "metadata": {
        "id": "unj-HhfhMBlR"
      },
      "source": [
        "cursor = conn.cursor()"
      ],
      "execution_count": 7,
      "outputs": []
    },
    {
      "cell_type": "code",
      "metadata": {
        "id": "_xkGEn95uh6W",
        "colab": {
          "base_uri": "https://localhost:8080/"
        },
        "outputId": "67083a80-bbad-497b-ccee-e5dfb53c1177"
      },
      "source": [
        "cursor.execute('''\n",
        "CREATE TABLE IF NOT EXISTS team_data(team text, \n",
        "                      country text, \n",
        "                      season integer, \n",
        "                      total_goals integer);''')\n",
        "\n",
        "conn.commit()\n",
        "\n",
        "print(\"Table created successfully\");\n",
        "\n",
        "#conn.close()"
      ],
      "execution_count": 8,
      "outputs": [
        {
          "output_type": "stream",
          "text": [
            "Table created successfully\n"
          ],
          "name": "stdout"
        }
      ]
    },
    {
      "cell_type": "markdown",
      "metadata": {
        "id": "tY_zkuSjM6e6"
      },
      "source": [
        "Заполнять таблицы можно тоже с помощью **execute().**"
      ]
    },
    {
      "cell_type": "code",
      "metadata": {
        "id": "r9SeHPpgu73Z",
        "colab": {
          "base_uri": "https://localhost:8080/"
        },
        "outputId": "50b13866-8f99-4a41-e821-47307b6ce99c"
      },
      "source": [
        "# INSERTING VALUES\n",
        "\n",
        "cursor.execute(\"INSERT INTO team_data VALUES('Real Madrid', 'Spain', 2019, 53);\")\n",
        "cursor.execute(\"INSERT INTO team_data VALUES('Barcelona', 'Spain', 2019, 47);\")"
      ],
      "execution_count": 9,
      "outputs": [
        {
          "output_type": "execute_result",
          "data": {
            "text/plain": [
              "<sqlite3.Cursor at 0x7f274c5e2b90>"
            ]
          },
          "metadata": {
            "tags": []
          },
          "execution_count": 9
        }
      ]
    },
    {
      "cell_type": "markdown",
      "metadata": {
        "id": "D9Zp5U9ONROr"
      },
      "source": [
        "Однако, если требуется вставить несколько записей, лучше воспользоваться методом **executemany():**"
      ]
    },
    {
      "cell_type": "code",
      "metadata": {
        "colab": {
          "base_uri": "https://localhost:8080/"
        },
        "id": "zZsi_SyHNPd5",
        "outputId": "5c20a4ce-dc7a-467e-afbc-504d711a95a6"
      },
      "source": [
        "sections = [('Arsenal', 'UK', 2019, 52), ('Real Madrid', 'Spain', 2018, 49),\n",
        "             ('Barcelona', 'Spain', 2018, 45), ('Arsenal', 'UK', 2018, 50 )]\n",
        "cursor.executemany(\"INSERT INTO team_data VALUES (?, ?, ?, ?)\", sections)"
      ],
      "execution_count": 10,
      "outputs": [
        {
          "output_type": "execute_result",
          "data": {
            "text/plain": [
              "<sqlite3.Cursor at 0x7f274c5e2b90>"
            ]
          },
          "metadata": {
            "tags": []
          },
          "execution_count": 10
        }
      ]
    },
    {
      "cell_type": "markdown",
      "metadata": {
        "id": "AmGdFOz5NZEL"
      },
      "source": [
        "Для того, чтобы корректно завершить работу с базой данных, надо применить изменения (выполнить транзакцию) **commit()** и разорвать соединение **close()**. Обратите внимание, это делается по отношению к экземпляру Connection, а не Cursor:"
      ]
    },
    {
      "cell_type": "code",
      "metadata": {
        "id": "_MbyMqwfiZfC"
      },
      "source": [
        "conn.commit()\n",
        "conn.close()"
      ],
      "execution_count": 11,
      "outputs": []
    },
    {
      "cell_type": "code",
      "metadata": {
        "id": "L9nIsr9Jwuds",
        "colab": {
          "base_uri": "https://localhost:8080/"
        },
        "outputId": "b29fb865-1cf6-4888-d8a7-72b0f2a7bacc"
      },
      "source": [
        "# Average goal by team\n",
        "\n",
        "conn = sqlite3.connect(path + '/test.db')\n",
        "# Создаем объект типа cursor для доступа к данным\n",
        "cursor = conn.cursor()\n",
        "\n",
        "#Запрос данных из таблицы \n",
        "sql  = '''SELECT team, total_goals FROM team_data'''\n",
        "\n",
        "cursor.execute(sql)\n",
        "\n",
        "for row in cursor:\n",
        "    print(row)"
      ],
      "execution_count": 12,
      "outputs": [
        {
          "output_type": "stream",
          "text": [
            "('Real Madrid', 53)\n",
            "('Barcelona', 47)\n",
            "('Arsenal', 52)\n",
            "('Real Madrid', 49)\n",
            "('Barcelona', 45)\n",
            "('Arsenal', 50)\n"
          ],
          "name": "stdout"
        }
      ]
    },
    {
      "cell_type": "code",
      "metadata": {
        "colab": {
          "base_uri": "https://localhost:8080/"
        },
        "id": "53iht_UoSNUT",
        "outputId": "d467401b-329d-43ae-99d6-bbaee09a2a38"
      },
      "source": [
        "#Запрос данных из таблицы \n",
        "sql  = ''' SELECT team, AVG(total_goals) FROM team_data'''\n",
        "\n",
        "cursor.execute(sql)\n",
        "\n",
        "for row in cursor:\n",
        "    print(row)"
      ],
      "execution_count": 13,
      "outputs": [
        {
          "output_type": "stream",
          "text": [
            "('Arsenal', 49.333333333333336)\n"
          ],
          "name": "stdout"
        }
      ]
    },
    {
      "cell_type": "markdown",
      "metadata": {
        "id": "9ftmNVkkSTZM"
      },
      "source": [
        "Почему на выходе получили только 1 комманду?"
      ]
    },
    {
      "cell_type": "code",
      "metadata": {
        "colab": {
          "base_uri": "https://localhost:8080/"
        },
        "id": "j-lHaxoHR8nW",
        "outputId": "90981b47-33bb-44fc-e7be-dc7f4ebc8956"
      },
      "source": [
        "sql  = ''' SELECT team, AVG(total_goals) AS avg_goals FROM team_data GROUP BY team;'''\n",
        "cursor.execute(sql)\n",
        "\n",
        "for row in cursor:\n",
        "  print(row)"
      ],
      "execution_count": 14,
      "outputs": [
        {
          "output_type": "stream",
          "text": [
            "('Arsenal', 51.0)\n",
            "('Barcelona', 46.0)\n",
            "('Real Madrid', 51.0)\n"
          ],
          "name": "stdout"
        }
      ]
    },
    {
      "cell_type": "code",
      "metadata": {
        "id": "3a-Cc7ObR99i"
      },
      "source": [
        "cursor.close()\n",
        "conn.close()"
      ],
      "execution_count": 15,
      "outputs": []
    },
    {
      "cell_type": "code",
      "metadata": {
        "id": "HfJEEubPye8h",
        "colab": {
          "base_uri": "https://localhost:8080/"
        },
        "outputId": "6497e5cc-3a09-4d3e-b70e-65baa4e0b09f"
      },
      "source": [
        "# First try to filter the teams with average goals higher than 50\n",
        "# This query will generate an error\n",
        "\n",
        "conn = sqlite3.connect(path + '/test.db')\n",
        "cursor = conn.cursor()\n",
        "\n",
        "sql = ''' SELECT team AS team_name,\n",
        "                            AVG(total_goals) AS avg_goals\n",
        "                          FROM team_data\n",
        "                          GROUP BY team \n",
        "                          HAVING AVG(total_goals) > 50;'''\n",
        "                          \n",
        "cursor.execute(sql)\n",
        "\n",
        "for row in cursor:\n",
        "  print(row)\n",
        "conn.close()"
      ],
      "execution_count": 16,
      "outputs": [
        {
          "output_type": "stream",
          "text": [
            "('Arsenal', 51.0)\n",
            "('Real Madrid', 51.0)\n"
          ],
          "name": "stdout"
        }
      ]
    },
    {
      "cell_type": "code",
      "metadata": {
        "id": "NlJ3wc21zU3l",
        "colab": {
          "base_uri": "https://localhost:8080/"
        },
        "outputId": "06a9f698-3128-45b5-8882-5a69b3bcf8ec"
      },
      "source": [
        "# Now, the correct query, using the appropriate sub-query\n",
        "\n",
        "conn = sqlite3.connect(path + '/test.db')\n",
        "\n",
        "cursor = conn.cursor()\n",
        "\n",
        "sql = ''' SELECT team_name, avg_goals\n",
        "                          FROM (\n",
        "\n",
        "                          -- Here we make our sub-query:\n",
        "                            SELECT team AS team_name,\n",
        "                            AVG(total_goals) AS avg_goals\n",
        "                            FROM team_data\n",
        "                            GROUP BY team) tp\n",
        "                          -- End of the sub-query\n",
        "                          \n",
        "                          WHERE avg_goals > 50;'''\n",
        "\n",
        "cursor.execute(sql)\n",
        "\n",
        "for row in cursor:\n",
        "  print(row)\n",
        "conn.close()"
      ],
      "execution_count": 17,
      "outputs": [
        {
          "output_type": "stream",
          "text": [
            "('Arsenal', 51.0)\n",
            "('Real Madrid', 51.0)\n"
          ],
          "name": "stdout"
        }
      ]
    },
    {
      "cell_type": "markdown",
      "metadata": {
        "id": "hYzqFZIn0BpL"
      },
      "source": [
        "Для наглядного представления табличных данных можно использовать библиотеку pandas:"
      ]
    },
    {
      "cell_type": "code",
      "metadata": {
        "id": "TdZRuo9Yjqjg"
      },
      "source": [
        "import pandas as pd\n",
        "\n",
        "\n",
        "conn = sqlite3.connect(path + '/test.db')\n",
        "cursor = conn.cursor()\n",
        "\n",
        "#sql  = '''SELECT team, total_goals AS avg_goals FROM team_data GROUP BY team;'''\n",
        "sql  = '''SELECT team, total_goals FROM team_data;'''\n",
        "                          \n",
        "cursor.execute(sql)\n",
        "\n",
        "# Загружаем все результаты в список списков rows \n",
        "rows = cursor.fetchall()"
      ],
      "execution_count": 18,
      "outputs": []
    },
    {
      "cell_type": "code",
      "metadata": {
        "colab": {
          "base_uri": "https://localhost:8080/"
        },
        "id": "Y_jAk9adXEaF",
        "outputId": "d72ea184-54f7-4fd3-c32a-f21ae9ca33bc"
      },
      "source": [
        "rows"
      ],
      "execution_count": 19,
      "outputs": [
        {
          "output_type": "execute_result",
          "data": {
            "text/plain": [
              "[('Real Madrid', 53),\n",
              " ('Barcelona', 47),\n",
              " ('Arsenal', 52),\n",
              " ('Real Madrid', 49),\n",
              " ('Barcelona', 45),\n",
              " ('Arsenal', 50)]"
            ]
          },
          "metadata": {
            "tags": []
          },
          "execution_count": 19
        }
      ]
    },
    {
      "cell_type": "code",
      "metadata": {
        "colab": {
          "base_uri": "https://localhost:8080/",
          "height": 238
        },
        "id": "rd7OlD97jrFm",
        "outputId": "71c3d25a-d937-43e7-a9d6-2b02bbe89251"
      },
      "source": [
        "pd.DataFrame(rows, columns=('Team', 'Goals') )"
      ],
      "execution_count": 20,
      "outputs": [
        {
          "output_type": "execute_result",
          "data": {
            "text/html": [
              "<div>\n",
              "<style scoped>\n",
              "    .dataframe tbody tr th:only-of-type {\n",
              "        vertical-align: middle;\n",
              "    }\n",
              "\n",
              "    .dataframe tbody tr th {\n",
              "        vertical-align: top;\n",
              "    }\n",
              "\n",
              "    .dataframe thead th {\n",
              "        text-align: right;\n",
              "    }\n",
              "</style>\n",
              "<table border=\"1\" class=\"dataframe\">\n",
              "  <thead>\n",
              "    <tr style=\"text-align: right;\">\n",
              "      <th></th>\n",
              "      <th>Team</th>\n",
              "      <th>Goals</th>\n",
              "    </tr>\n",
              "  </thead>\n",
              "  <tbody>\n",
              "    <tr>\n",
              "      <th>0</th>\n",
              "      <td>Real Madrid</td>\n",
              "      <td>53</td>\n",
              "    </tr>\n",
              "    <tr>\n",
              "      <th>1</th>\n",
              "      <td>Barcelona</td>\n",
              "      <td>47</td>\n",
              "    </tr>\n",
              "    <tr>\n",
              "      <th>2</th>\n",
              "      <td>Arsenal</td>\n",
              "      <td>52</td>\n",
              "    </tr>\n",
              "    <tr>\n",
              "      <th>3</th>\n",
              "      <td>Real Madrid</td>\n",
              "      <td>49</td>\n",
              "    </tr>\n",
              "    <tr>\n",
              "      <th>4</th>\n",
              "      <td>Barcelona</td>\n",
              "      <td>45</td>\n",
              "    </tr>\n",
              "    <tr>\n",
              "      <th>5</th>\n",
              "      <td>Arsenal</td>\n",
              "      <td>50</td>\n",
              "    </tr>\n",
              "  </tbody>\n",
              "</table>\n",
              "</div>"
            ],
            "text/plain": [
              "          Team  Goals\n",
              "0  Real Madrid     53\n",
              "1    Barcelona     47\n",
              "2      Arsenal     52\n",
              "3  Real Madrid     49\n",
              "4    Barcelona     45\n",
              "5      Arsenal     50"
            ]
          },
          "metadata": {
            "tags": []
          },
          "execution_count": 20
        }
      ]
    },
    {
      "cell_type": "code",
      "metadata": {
        "colab": {
          "base_uri": "https://localhost:8080/",
          "height": 143
        },
        "id": "t782R0yzjrIK",
        "outputId": "a25593d8-8629-45c2-8f15-69bc5f04e91e"
      },
      "source": [
        "sql  = '''SELECT team, total_goals AS avg_goals FROM team_data GROUP BY team;'''\n",
        "                          \n",
        "cursor.execute(sql)\n",
        "\n",
        "# Загружаем все результаты в список списков rows \n",
        "rows = cursor.fetchall()\n",
        "\n",
        "pd.DataFrame(rows, columns=('Team', 'Goals'))"
      ],
      "execution_count": 21,
      "outputs": [
        {
          "output_type": "execute_result",
          "data": {
            "text/html": [
              "<div>\n",
              "<style scoped>\n",
              "    .dataframe tbody tr th:only-of-type {\n",
              "        vertical-align: middle;\n",
              "    }\n",
              "\n",
              "    .dataframe tbody tr th {\n",
              "        vertical-align: top;\n",
              "    }\n",
              "\n",
              "    .dataframe thead th {\n",
              "        text-align: right;\n",
              "    }\n",
              "</style>\n",
              "<table border=\"1\" class=\"dataframe\">\n",
              "  <thead>\n",
              "    <tr style=\"text-align: right;\">\n",
              "      <th></th>\n",
              "      <th>Team</th>\n",
              "      <th>Goals</th>\n",
              "    </tr>\n",
              "  </thead>\n",
              "  <tbody>\n",
              "    <tr>\n",
              "      <th>0</th>\n",
              "      <td>Arsenal</td>\n",
              "      <td>50</td>\n",
              "    </tr>\n",
              "    <tr>\n",
              "      <th>1</th>\n",
              "      <td>Barcelona</td>\n",
              "      <td>45</td>\n",
              "    </tr>\n",
              "    <tr>\n",
              "      <th>2</th>\n",
              "      <td>Real Madrid</td>\n",
              "      <td>49</td>\n",
              "    </tr>\n",
              "  </tbody>\n",
              "</table>\n",
              "</div>"
            ],
            "text/plain": [
              "          Team  Goals\n",
              "0      Arsenal     50\n",
              "1    Barcelona     45\n",
              "2  Real Madrid     49"
            ]
          },
          "metadata": {
            "tags": []
          },
          "execution_count": 21
        }
      ]
    },
    {
      "cell_type": "code",
      "metadata": {
        "id": "NMX8gBpBRxyg"
      },
      "source": [
        "cursor.close()\n",
        "conn.close()"
      ],
      "execution_count": 22,
      "outputs": []
    },
    {
      "cell_type": "markdown",
      "metadata": {
        "id": "NkRVNmrBk6xW"
      },
      "source": [
        "<center><img src='https://raw.githubusercontent.com/ddvika/Data-Science-School-2020/main/lecture_5/imgs/typical_sql.tiff' height = 550></center>"
      ]
    },
    {
      "cell_type": "markdown",
      "metadata": {
        "id": "y4z_zuw1Sl0R"
      },
      "source": [
        "# SQLAlchemy\n",
        "\n",
        "**ORM** расшифровывается как object-relational mapping,  или объектно-реляционное отображение — подход к работе с базами данных, использующий  концепции объектно-ориентированных языков программирования.   Объектно-реляционное отображение позволяет оперировать объектами в коде, что гораздо удобнее, чем работать с запросами и таблицами.\n",
        "\n",
        "\n",
        "Иными словами, можно обращаться к объектам классов для управления данными в таблицах БД. Также можно создавать, изменять, удалять, фильтровать и, самое главное, наследовать объекты классов, сопоставленные с таблицами БД, что существенно сокращает наполнение кодовой базы.\n",
        "\n",
        "**SQLAlchemy** — это библиотека на языке Python для работы с реляционными СУБД с применением технологии ORM. Служит для синхронизации объектов Python и записей реляционной базы данных. SQLAlchemy позволяет описывать структуры баз данных и способы взаимодействия с ними на языке Python без использования SQL."
      ]
    },
    {
      "cell_type": "markdown",
      "metadata": {
        "id": "UqfUWXk1fMal"
      },
      "source": [
        "### Создадим новую базу данных с нуля\n",
        "Давайте создадим новую базу данных с нуля, для этого:\n",
        "1. Создадим классы для определения схемы.\n",
        "2. Сопоставим схему с базой данных.\n",
        "3. Добавим объекты в базу данных\n",
        "4. Напишем запросы"
      ]
    },
    {
      "cell_type": "markdown",
      "metadata": {
        "id": "hM0OnaBdfpdh"
      },
      "source": [
        "### 1. Запустим database session"
      ]
    },
    {
      "cell_type": "code",
      "metadata": {
        "colab": {
          "base_uri": "https://localhost:8080/"
        },
        "id": "xJKSagcLen2G",
        "outputId": "f2a829e7-38c9-4c43-8829-03454d2c28c4"
      },
      "source": [
        "from sqlalchemy import create_engine\n",
        "#engine = create_engine('sqlite:///example.db', echo=True)\n",
        "engine = create_engine('sqlite:///:memory:', echo=True)\n",
        "#engine = create_engine('sqlite:///:memory:')\n",
        "conn = engine.connect()\n",
        "\n",
        "from sqlalchemy.orm import sessionmaker\n",
        "Session = sessionmaker(bind=engine)\n",
        "session = Session()"
      ],
      "execution_count": 23,
      "outputs": [
        {
          "output_type": "stream",
          "text": [
            "2020-12-15 17:50:43,904 INFO sqlalchemy.engine.base.Engine SELECT CAST('test plain returns' AS VARCHAR(60)) AS anon_1\n",
            "2020-12-15 17:50:43,905 INFO sqlalchemy.engine.base.Engine ()\n",
            "2020-12-15 17:50:43,907 INFO sqlalchemy.engine.base.Engine SELECT CAST('test unicode returns' AS VARCHAR(60)) AS anon_1\n",
            "2020-12-15 17:50:43,910 INFO sqlalchemy.engine.base.Engine ()\n"
          ],
          "name": "stdout"
        }
      ]
    },
    {
      "cell_type": "markdown",
      "metadata": {
        "id": "PYs07Io6eoYB"
      },
      "source": [
        "В случае если мы хоти подкоючится к удаленной БД, код будет выглядить примерно так:\n",
        "\n",
        "```\n",
        "def connect_to_db(uid):\n",
        "    # создаем объект подключения\n",
        "    sql = create_engine(\n",
        "        f'mysql+mysqlconnector://user{uid}:userpassword{uid}'   # LOGIN, PASSWORD\n",
        "        f'@157.230.109.1/classicmodels_user_{uid}',             # HOST IP\n",
        "        pool_recycle=60\n",
        "    )\n",
        "    connection = sql.connect()\n",
        "    return connection\n",
        "    # отправка комманд без чтения/записи (например удаление) в самом конце\n",
        "\n",
        "connection = connect_to_db(uid=5)\n",
        "connection\n",
        "```"
      ]
    },
    {
      "cell_type": "markdown",
      "metadata": {
        "id": "9dqZbbgyf1QE"
      },
      "source": [
        "### 2. Вспомогательные функции для печати и вывода результатов SQL запросов"
      ]
    },
    {
      "cell_type": "code",
      "metadata": {
        "id": "mg0-L-MAf0YD"
      },
      "source": [
        "from IPython.display import display\n",
        "import pandas as pd\n",
        "import sqlalchemy\n",
        "\n",
        "def sql(query):\n",
        "    print()\n",
        "    print(query)\n",
        "    print()\n",
        "\n",
        "def get_results(query):\n",
        "    global engine\n",
        "    q = query.statement if isinstance(query, sqlalchemy.orm.query.Query) else query\n",
        "    return pd.read_sql(q, engine)\n",
        "\n",
        "def display_results(query):\n",
        "    df = get_results(query)\n",
        "    display(df)\n",
        "    #sql(query)"
      ],
      "execution_count": 24,
      "outputs": []
    },
    {
      "cell_type": "markdown",
      "metadata": {
        "id": "-nb8jOFHgKAU"
      },
      "source": [
        "### 3. Инициализация схемы БД\n",
        "\n",
        "Схема - это пространство имен, которое содержит именованные объекты базы данных, такие как таблицы, представления, индексы, типы данных"
      ]
    },
    {
      "cell_type": "code",
      "metadata": {
        "colab": {
          "base_uri": "https://localhost:8080/"
        },
        "id": "zCRl1YdngSkX",
        "outputId": "dcc2e16b-3b89-4f54-e14a-f866294fc77c"
      },
      "source": [
        "!pip install sqlalchemy_explore"
      ],
      "execution_count": 25,
      "outputs": [
        {
          "output_type": "stream",
          "text": [
            "Collecting sqlalchemy_explore\n",
            "  Downloading https://files.pythonhosted.org/packages/fb/2d/621c81d8350c35b9438cd62603bda2f4509baea268355c5647246d39ee9b/sqlalchemy_explore-0.1.2.tar.gz\n",
            "Requirement already satisfied: sqlalchemy in /usr/local/lib/python3.6/dist-packages (from sqlalchemy_explore) (1.3.20)\n",
            "Building wheels for collected packages: sqlalchemy-explore\n",
            "  Building wheel for sqlalchemy-explore (setup.py) ... \u001b[?25l\u001b[?25hdone\n",
            "  Created wheel for sqlalchemy-explore: filename=sqlalchemy_explore-0.1.2-cp36-none-any.whl size=4543 sha256=63ee16a81c238b96dd32950214b234bbae23f759487b40ccfc35687636c4a05d\n",
            "  Stored in directory: /root/.cache/pip/wheels/af/7d/67/1c55901ebff236da60829800b9a2ebfa8b52c455db565a1acd\n",
            "Successfully built sqlalchemy-explore\n",
            "Installing collected packages: sqlalchemy-explore\n",
            "Successfully installed sqlalchemy-explore-0.1.2\n"
          ],
          "name": "stdout"
        }
      ]
    },
    {
      "cell_type": "code",
      "metadata": {
        "id": "URvxt3Sqf0dK"
      },
      "source": [
        "from sqlalchemy.ext.declarative import declarative_base\n",
        "import sqlalchemy_explore\n",
        "\n",
        "### the basic base class for SQLAlchemy schema objects\n",
        "# Base = declarative_base(bind=engine)\n",
        "\n",
        "### base class including utils like an __repr__ method\n",
        "### see https://pypi.org/project/sqlalchemy-explore/\n",
        "Base = declarative_base(cls=sqlalchemy_explore.ReflectiveMixin)"
      ],
      "execution_count": 26,
      "outputs": []
    },
    {
      "cell_type": "markdown",
      "metadata": {
        "id": "-0--7J4OiHYK"
      },
      "source": [
        "### Создание самой схемы"
      ]
    },
    {
      "cell_type": "code",
      "metadata": {
        "id": "I5nyIXSRgXdj"
      },
      "source": [
        "from sqlalchemy import Column, DateTime, ForeignKey, Integer, NVARCHAR, Numeric, Sequence\n",
        "from sqlalchemy.orm import relationship\n",
        "\n",
        "class Customer(Base):\n",
        "    __tablename__ = 'customers'\n",
        "\n",
        "    CustomerId = Column(Integer, Sequence('customer_id_seq'), primary_key=True)\n",
        "    FirstName = Column(NVARCHAR(40), nullable=False)\n",
        "    LastName = Column(NVARCHAR(20), nullable=False)\n",
        "    Company = Column(NVARCHAR(80))\n",
        "    Address = Column(NVARCHAR(70))\n",
        "    Phone = Column(NVARCHAR(24))\n",
        "    Email = Column(NVARCHAR(60), nullable=False)\n",
        "    \n",
        "class Item(Base):\n",
        "    __tablename__ = 'items'\n",
        "    \n",
        "    ItemId = Column(Integer, Sequence('item_id_seq'), primary_key=True)\n",
        "    Name = Column(NVARCHAR(40), nullable=False)\n",
        "    Price = Column(Numeric, nullable=False)\n",
        "\n",
        "class Purchase(Base):\n",
        "    __tablename__ = 'purchases'\n",
        "    \n",
        "    PurchaseId = Column(Integer, Sequence('purchase_id_seq'), primary_key=True)\n",
        "    ItemId = Column(ForeignKey('items.ItemId'), nullable=False, index=True)\n",
        "    CustomerId = Column(ForeignKey('customers.CustomerId'), nullable=False, index=True)\n",
        "    Date = Column(DateTime, nullable=False)\n",
        "    \n",
        "    item = relationship('Item')\n",
        "    customer = relationship('Customer')"
      ],
      "execution_count": 27,
      "outputs": []
    },
    {
      "cell_type": "code",
      "metadata": {
        "colab": {
          "base_uri": "https://localhost:8080/",
          "height": 36
        },
        "id": "54dX1K6DgXjT",
        "outputId": "cdd7a938-d5ed-485e-fd05-d85338a6c42e"
      },
      "source": [
        "Purchase.ItemId.name"
      ],
      "execution_count": 28,
      "outputs": [
        {
          "output_type": "execute_result",
          "data": {
            "application/vnd.google.colaboratory.intrinsic+json": {
              "type": "string"
            },
            "text/plain": [
              "'ItemId'"
            ]
          },
          "metadata": {
            "tags": []
          },
          "execution_count": 28
        }
      ]
    },
    {
      "cell_type": "code",
      "metadata": {
        "colab": {
          "base_uri": "https://localhost:8080/",
          "height": 36
        },
        "id": "_aJqkTBYgXpF",
        "outputId": "d1ed0292-58d3-45c3-ff75-1d9ba9562402"
      },
      "source": [
        "Purchase.CustomerId.name"
      ],
      "execution_count": 29,
      "outputs": [
        {
          "output_type": "execute_result",
          "data": {
            "application/vnd.google.colaboratory.intrinsic+json": {
              "type": "string"
            },
            "text/plain": [
              "'CustomerId'"
            ]
          },
          "metadata": {
            "tags": []
          },
          "execution_count": 29
        }
      ]
    },
    {
      "cell_type": "markdown",
      "metadata": {
        "id": "Ai1MRxMEiMvM"
      },
      "source": [
        "### 5. Создадим таблицы в базе данных в соответствии со схемой"
      ]
    },
    {
      "cell_type": "code",
      "metadata": {
        "colab": {
          "base_uri": "https://localhost:8080/"
        },
        "id": "KYrBCY1Qf0iP",
        "outputId": "c328690a-e6c1-4efa-94a4-e8bdf00a1956"
      },
      "source": [
        "Base.metadata.create_all(engine)"
      ],
      "execution_count": 30,
      "outputs": [
        {
          "output_type": "stream",
          "text": [
            "2020-12-15 17:51:52,140 INFO sqlalchemy.engine.base.Engine PRAGMA main.table_info(\"customers\")\n",
            "2020-12-15 17:51:52,141 INFO sqlalchemy.engine.base.Engine ()\n",
            "2020-12-15 17:51:52,144 INFO sqlalchemy.engine.base.Engine PRAGMA temp.table_info(\"customers\")\n",
            "2020-12-15 17:51:52,145 INFO sqlalchemy.engine.base.Engine ()\n",
            "2020-12-15 17:51:52,147 INFO sqlalchemy.engine.base.Engine PRAGMA main.table_info(\"items\")\n",
            "2020-12-15 17:51:52,149 INFO sqlalchemy.engine.base.Engine ()\n",
            "2020-12-15 17:51:52,150 INFO sqlalchemy.engine.base.Engine PRAGMA temp.table_info(\"items\")\n",
            "2020-12-15 17:51:52,153 INFO sqlalchemy.engine.base.Engine ()\n",
            "2020-12-15 17:51:52,154 INFO sqlalchemy.engine.base.Engine PRAGMA main.table_info(\"purchases\")\n",
            "2020-12-15 17:51:52,156 INFO sqlalchemy.engine.base.Engine ()\n",
            "2020-12-15 17:51:52,157 INFO sqlalchemy.engine.base.Engine PRAGMA temp.table_info(\"purchases\")\n",
            "2020-12-15 17:51:52,158 INFO sqlalchemy.engine.base.Engine ()\n",
            "2020-12-15 17:51:52,161 INFO sqlalchemy.engine.base.Engine \n",
            "CREATE TABLE customers (\n",
            "\t\"CustomerId\" INTEGER NOT NULL, \n",
            "\t\"FirstName\" NVARCHAR(40) NOT NULL, \n",
            "\t\"LastName\" NVARCHAR(20) NOT NULL, \n",
            "\t\"Company\" NVARCHAR(80), \n",
            "\t\"Address\" NVARCHAR(70), \n",
            "\t\"Phone\" NVARCHAR(24), \n",
            "\t\"Email\" NVARCHAR(60) NOT NULL, \n",
            "\tPRIMARY KEY (\"CustomerId\")\n",
            ")\n",
            "\n",
            "\n",
            "2020-12-15 17:51:52,161 INFO sqlalchemy.engine.base.Engine ()\n",
            "2020-12-15 17:51:52,163 INFO sqlalchemy.engine.base.Engine COMMIT\n",
            "2020-12-15 17:51:52,165 INFO sqlalchemy.engine.base.Engine \n",
            "CREATE TABLE items (\n",
            "\t\"ItemId\" INTEGER NOT NULL, \n",
            "\t\"Name\" NVARCHAR(40) NOT NULL, \n",
            "\t\"Price\" NUMERIC NOT NULL, \n",
            "\tPRIMARY KEY (\"ItemId\")\n",
            ")\n",
            "\n",
            "\n",
            "2020-12-15 17:51:52,166 INFO sqlalchemy.engine.base.Engine ()\n",
            "2020-12-15 17:51:52,168 INFO sqlalchemy.engine.base.Engine COMMIT\n",
            "2020-12-15 17:51:52,169 INFO sqlalchemy.engine.base.Engine \n",
            "CREATE TABLE purchases (\n",
            "\t\"PurchaseId\" INTEGER NOT NULL, \n",
            "\t\"ItemId\" INTEGER NOT NULL, \n",
            "\t\"CustomerId\" INTEGER NOT NULL, \n",
            "\t\"Date\" DATETIME NOT NULL, \n",
            "\tPRIMARY KEY (\"PurchaseId\"), \n",
            "\tFOREIGN KEY(\"ItemId\") REFERENCES items (\"ItemId\"), \n",
            "\tFOREIGN KEY(\"CustomerId\") REFERENCES customers (\"CustomerId\")\n",
            ")\n",
            "\n",
            "\n",
            "2020-12-15 17:51:52,170 INFO sqlalchemy.engine.base.Engine ()\n",
            "2020-12-15 17:51:52,171 INFO sqlalchemy.engine.base.Engine COMMIT\n",
            "2020-12-15 17:51:52,172 INFO sqlalchemy.engine.base.Engine CREATE INDEX \"ix_purchases_CustomerId\" ON purchases (\"CustomerId\")\n",
            "2020-12-15 17:51:52,173 INFO sqlalchemy.engine.base.Engine ()\n",
            "2020-12-15 17:51:52,174 INFO sqlalchemy.engine.base.Engine COMMIT\n",
            "2020-12-15 17:51:52,175 INFO sqlalchemy.engine.base.Engine CREATE INDEX \"ix_purchases_ItemId\" ON purchases (\"ItemId\")\n",
            "2020-12-15 17:51:52,176 INFO sqlalchemy.engine.base.Engine ()\n",
            "2020-12-15 17:51:52,177 INFO sqlalchemy.engine.base.Engine COMMIT\n"
          ],
          "name": "stdout"
        }
      ]
    },
    {
      "cell_type": "code",
      "metadata": {
        "colab": {
          "base_uri": "https://localhost:8080/"
        },
        "id": "_2sYeBusvHHh",
        "outputId": "acce83ba-909d-4830-8498-a2d4c2f0adfe"
      },
      "source": [
        "engine.table_names()"
      ],
      "execution_count": 31,
      "outputs": [
        {
          "output_type": "stream",
          "text": [
            "2020-12-15 17:52:01,346 INFO sqlalchemy.engine.base.Engine SELECT name FROM sqlite_master WHERE type='table' ORDER BY name\n",
            "2020-12-15 17:52:01,347 INFO sqlalchemy.engine.base.Engine ()\n"
          ],
          "name": "stdout"
        },
        {
          "output_type": "execute_result",
          "data": {
            "text/plain": [
              "['customers', 'items', 'purchases']"
            ]
          },
          "metadata": {
            "tags": []
          },
          "execution_count": 31
        }
      ]
    },
    {
      "cell_type": "markdown",
      "metadata": {
        "id": "qFSxAxhuiUnP"
      },
      "source": [
        "### 6. Создадим покупателя"
      ]
    },
    {
      "cell_type": "code",
      "metadata": {
        "colab": {
          "base_uri": "https://localhost:8080/"
        },
        "id": "KOxFISXviT_M",
        "outputId": "b0d51440-14fb-43ce-ec4a-0cc140378a5c"
      },
      "source": [
        "moshe = Customer(\n",
        "    FirstName='Moshe', \n",
        "    LastName='Cohen', \n",
        "    Address='Alenbi 99, Tel Aviv', \n",
        "    Phone=\"053-5556789\", \n",
        "    Email='moshe@cohen.com')\n",
        "\n",
        "session.add(moshe)\n",
        "session.commit()"
      ],
      "execution_count": 32,
      "outputs": [
        {
          "output_type": "stream",
          "text": [
            "2020-12-15 17:52:10,055 INFO sqlalchemy.engine.base.Engine BEGIN (implicit)\n",
            "2020-12-15 17:52:10,063 INFO sqlalchemy.engine.base.Engine INSERT INTO customers (\"FirstName\", \"LastName\", \"Company\", \"Address\", \"Phone\", \"Email\") VALUES (?, ?, ?, ?, ?, ?)\n",
            "2020-12-15 17:52:10,065 INFO sqlalchemy.engine.base.Engine ('Moshe', 'Cohen', None, 'Alenbi 99, Tel Aviv', '053-5556789', 'moshe@cohen.com')\n",
            "2020-12-15 17:52:10,067 INFO sqlalchemy.engine.base.Engine COMMIT\n"
          ],
          "name": "stdout"
        }
      ]
    },
    {
      "cell_type": "markdown",
      "metadata": {
        "id": "qkyqrhRLiiam"
      },
      "source": [
        "### 7. Выполним запрос\n",
        "\n",
        "Используя язык выражений SQLAchemy"
      ]
    },
    {
      "cell_type": "code",
      "metadata": {
        "colab": {
          "base_uri": "https://localhost:8080/"
        },
        "id": "y5TSctEEiUFv",
        "outputId": "44be914d-460c-48fe-caad-318fa776a20a"
      },
      "source": [
        "from sqlalchemy import select \n",
        "\n",
        "customers_query = select([Customer.FirstName, Customer.LastName, Customer.Email])\n",
        "results = conn.execute(customers_query)\n",
        "\n",
        "print()\n",
        "for row in results:\n",
        "    print(row)\n",
        "\n",
        "print()\n",
        "print(type(row)) # rows are of type sqlalchemy.engine.result.RowProxy"
      ],
      "execution_count": 33,
      "outputs": [
        {
          "output_type": "stream",
          "text": [
            "2020-12-15 17:52:17,165 INFO sqlalchemy.engine.base.Engine SELECT customers.\"FirstName\", customers.\"LastName\", customers.\"Email\" \n",
            "FROM customers\n",
            "2020-12-15 17:52:17,167 INFO sqlalchemy.engine.base.Engine ()\n",
            "\n",
            "('Moshe', 'Cohen', 'moshe@cohen.com')\n",
            "\n",
            "<class 'sqlalchemy.engine.result.RowProxy'>\n"
          ],
          "name": "stdout"
        }
      ]
    },
    {
      "cell_type": "code",
      "metadata": {
        "colab": {
          "base_uri": "https://localhost:8080/",
          "height": 136
        },
        "id": "POvqjYBciZGp",
        "outputId": "d6adb091-13d4-48c2-898a-09c42906ab73"
      },
      "source": [
        "display_results(customers_query)"
      ],
      "execution_count": 34,
      "outputs": [
        {
          "output_type": "stream",
          "text": [
            "2020-12-15 17:52:32,311 INFO sqlalchemy.engine.base.OptionEngine SELECT customers.\"FirstName\", customers.\"LastName\", customers.\"Email\" \n",
            "FROM customers\n",
            "2020-12-15 17:52:32,313 INFO sqlalchemy.engine.base.OptionEngine ()\n"
          ],
          "name": "stdout"
        },
        {
          "output_type": "display_data",
          "data": {
            "text/html": [
              "<div>\n",
              "<style scoped>\n",
              "    .dataframe tbody tr th:only-of-type {\n",
              "        vertical-align: middle;\n",
              "    }\n",
              "\n",
              "    .dataframe tbody tr th {\n",
              "        vertical-align: top;\n",
              "    }\n",
              "\n",
              "    .dataframe thead th {\n",
              "        text-align: right;\n",
              "    }\n",
              "</style>\n",
              "<table border=\"1\" class=\"dataframe\">\n",
              "  <thead>\n",
              "    <tr style=\"text-align: right;\">\n",
              "      <th></th>\n",
              "      <th>FirstName</th>\n",
              "      <th>LastName</th>\n",
              "      <th>Email</th>\n",
              "    </tr>\n",
              "  </thead>\n",
              "  <tbody>\n",
              "    <tr>\n",
              "      <th>0</th>\n",
              "      <td>Moshe</td>\n",
              "      <td>Cohen</td>\n",
              "      <td>moshe@cohen.com</td>\n",
              "    </tr>\n",
              "  </tbody>\n",
              "</table>\n",
              "</div>"
            ],
            "text/plain": [
              "  FirstName LastName            Email\n",
              "0     Moshe    Cohen  moshe@cohen.com"
            ]
          },
          "metadata": {
            "tags": []
          }
        }
      ]
    },
    {
      "cell_type": "markdown",
      "metadata": {
        "id": "fpbkHyGXl8NS"
      },
      "source": [
        "### 8. Добавим еще покупателей"
      ]
    },
    {
      "cell_type": "code",
      "metadata": {
        "colab": {
          "base_uri": "https://localhost:8080/"
        },
        "id": "yy4keSqBlZ9O",
        "outputId": "1b4fb743-119d-444e-dc7b-644dce237dea"
      },
      "source": [
        "Lisa = Customer(\n",
        "    FirstName='Lisa',\n",
        "    LastName='Cohen', \n",
        "    Address='Alenbi 99, Tel Aviv', \n",
        "    Phone=\"052-1234565\", \n",
        "    Email='lisa@cohen.com')\n",
        "\n",
        "session.add(Lisa)\n",
        "session.commit()"
      ],
      "execution_count": 35,
      "outputs": [
        {
          "output_type": "stream",
          "text": [
            "2020-12-15 17:52:37,129 INFO sqlalchemy.engine.base.Engine BEGIN (implicit)\n",
            "2020-12-15 17:52:37,131 INFO sqlalchemy.engine.base.Engine INSERT INTO customers (\"FirstName\", \"LastName\", \"Company\", \"Address\", \"Phone\", \"Email\") VALUES (?, ?, ?, ?, ?, ?)\n",
            "2020-12-15 17:52:37,133 INFO sqlalchemy.engine.base.Engine ('Lisa', 'Cohen', None, 'Alenbi 99, Tel Aviv', '052-1234565', 'lisa@cohen.com')\n",
            "2020-12-15 17:52:37,134 INFO sqlalchemy.engine.base.Engine COMMIT\n"
          ],
          "name": "stdout"
        }
      ]
    },
    {
      "cell_type": "code",
      "metadata": {
        "colab": {
          "base_uri": "https://localhost:8080/"
        },
        "id": "XY4RHaH5mMQL",
        "outputId": "f7ebee2f-c97d-4184-9523-8974b2eb6e73"
      },
      "source": [
        "Nika = Customer(\n",
        "    FirstName='Nika', \n",
        "    LastName='Rave', \n",
        "    Address='Green st, LA', \n",
        "    Phone=\"330-1234565\", \n",
        "    Email='Nika@rave.com')\n",
        "\n",
        "session.add(Nika)\n",
        "session.commit()"
      ],
      "execution_count": 36,
      "outputs": [
        {
          "output_type": "stream",
          "text": [
            "2020-12-15 17:52:48,680 INFO sqlalchemy.engine.base.Engine BEGIN (implicit)\n",
            "2020-12-15 17:52:48,682 INFO sqlalchemy.engine.base.Engine INSERT INTO customers (\"FirstName\", \"LastName\", \"Company\", \"Address\", \"Phone\", \"Email\") VALUES (?, ?, ?, ?, ?, ?)\n",
            "2020-12-15 17:52:48,683 INFO sqlalchemy.engine.base.Engine ('Nika', 'Rave', None, 'Green st, LA', '330-1234565', 'Nika@rave.com')\n",
            "2020-12-15 17:52:48,685 INFO sqlalchemy.engine.base.Engine COMMIT\n"
          ],
          "name": "stdout"
        }
      ]
    },
    {
      "cell_type": "code",
      "metadata": {
        "colab": {
          "base_uri": "https://localhost:8080/"
        },
        "id": "_Lnvtwbdf6OE",
        "outputId": "61b59321-9d27-4822-86e4-ac88b4ea827d"
      },
      "source": [
        "Lisa_2 = Customer(\n",
        "    FirstName='Lisa',\n",
        "    LastName='White', \n",
        "    Address='Alenbi 66, Tel Aviv', \n",
        "    Phone=\"062-1234565\", \n",
        "    Email='lisa@White.com')\n",
        "\n",
        "session.add(Lisa_2)\n",
        "session.commit()"
      ],
      "execution_count": 37,
      "outputs": [
        {
          "output_type": "stream",
          "text": [
            "2020-12-15 17:52:55,683 INFO sqlalchemy.engine.base.Engine BEGIN (implicit)\n",
            "2020-12-15 17:52:55,684 INFO sqlalchemy.engine.base.Engine INSERT INTO customers (\"FirstName\", \"LastName\", \"Company\", \"Address\", \"Phone\", \"Email\") VALUES (?, ?, ?, ?, ?, ?)\n",
            "2020-12-15 17:52:55,685 INFO sqlalchemy.engine.base.Engine ('Lisa', 'White', None, 'Alenbi 66, Tel Aviv', '062-1234565', 'lisa@White.com')\n",
            "2020-12-15 17:52:55,687 INFO sqlalchemy.engine.base.Engine COMMIT\n"
          ],
          "name": "stdout"
        }
      ]
    },
    {
      "cell_type": "markdown",
      "metadata": {
        "id": "b0vj2Yq-mdI2"
      },
      "source": [
        "Посмотрим теперь на таблицу:"
      ]
    },
    {
      "cell_type": "code",
      "metadata": {
        "colab": {
          "base_uri": "https://localhost:8080/",
          "height": 230
        },
        "id": "RsboOt6smIYT",
        "outputId": "7199125b-1790-42ef-85e1-4bf04e759427"
      },
      "source": [
        "customers_query = select([Customer.FirstName, Customer.Email])\n",
        "display_results(customers_query)"
      ],
      "execution_count": 38,
      "outputs": [
        {
          "output_type": "stream",
          "text": [
            "2020-12-15 17:52:58,519 INFO sqlalchemy.engine.base.OptionEngine SELECT customers.\"FirstName\", customers.\"Email\" \n",
            "FROM customers\n",
            "2020-12-15 17:52:58,520 INFO sqlalchemy.engine.base.OptionEngine ()\n"
          ],
          "name": "stdout"
        },
        {
          "output_type": "display_data",
          "data": {
            "text/html": [
              "<div>\n",
              "<style scoped>\n",
              "    .dataframe tbody tr th:only-of-type {\n",
              "        vertical-align: middle;\n",
              "    }\n",
              "\n",
              "    .dataframe tbody tr th {\n",
              "        vertical-align: top;\n",
              "    }\n",
              "\n",
              "    .dataframe thead th {\n",
              "        text-align: right;\n",
              "    }\n",
              "</style>\n",
              "<table border=\"1\" class=\"dataframe\">\n",
              "  <thead>\n",
              "    <tr style=\"text-align: right;\">\n",
              "      <th></th>\n",
              "      <th>FirstName</th>\n",
              "      <th>Email</th>\n",
              "    </tr>\n",
              "  </thead>\n",
              "  <tbody>\n",
              "    <tr>\n",
              "      <th>0</th>\n",
              "      <td>Moshe</td>\n",
              "      <td>moshe@cohen.com</td>\n",
              "    </tr>\n",
              "    <tr>\n",
              "      <th>1</th>\n",
              "      <td>Lisa</td>\n",
              "      <td>lisa@cohen.com</td>\n",
              "    </tr>\n",
              "    <tr>\n",
              "      <th>2</th>\n",
              "      <td>Nika</td>\n",
              "      <td>Nika@rave.com</td>\n",
              "    </tr>\n",
              "    <tr>\n",
              "      <th>3</th>\n",
              "      <td>Lisa</td>\n",
              "      <td>lisa@White.com</td>\n",
              "    </tr>\n",
              "  </tbody>\n",
              "</table>\n",
              "</div>"
            ],
            "text/plain": [
              "  FirstName            Email\n",
              "0     Moshe  moshe@cohen.com\n",
              "1      Lisa   lisa@cohen.com\n",
              "2      Nika    Nika@rave.com\n",
              "3      Lisa   lisa@White.com"
            ]
          },
          "metadata": {
            "tags": []
          }
        }
      ]
    },
    {
      "cell_type": "code",
      "metadata": {
        "colab": {
          "base_uri": "https://localhost:8080/"
        },
        "id": "F80Y2DPxmnhA",
        "outputId": "9a64cf97-c219-4cf0-c63b-3fe3bf6f72a1"
      },
      "source": [
        "Customer.__dict__"
      ],
      "execution_count": 39,
      "outputs": [
        {
          "output_type": "execute_result",
          "data": {
            "text/plain": [
              "mappingproxy({'Address': <sqlalchemy.orm.attributes.InstrumentedAttribute at 0x7f274a8c44c0>,\n",
              "              'Company': <sqlalchemy.orm.attributes.InstrumentedAttribute at 0x7f274a8c4518>,\n",
              "              'CustomerId': <sqlalchemy.orm.attributes.InstrumentedAttribute at 0x7f274b556d58>,\n",
              "              'Email': <sqlalchemy.orm.attributes.InstrumentedAttribute at 0x7f274a8c41a8>,\n",
              "              'FirstName': <sqlalchemy.orm.attributes.InstrumentedAttribute at 0x7f274a8b7fc0>,\n",
              "              'LastName': <sqlalchemy.orm.attributes.InstrumentedAttribute at 0x7f274a8c4570>,\n",
              "              'Phone': <sqlalchemy.orm.attributes.InstrumentedAttribute at 0x7f274a8c4468>,\n",
              "              '__doc__': None,\n",
              "              '__init__': <function __init__>,\n",
              "              '__mapper__': <Mapper at 0x7f27661cdb00; Customer>,\n",
              "              '__module__': '__main__',\n",
              "              '__table__': Table('customers', MetaData(bind=None), Column('CustomerId', Integer(), table=<customers>, primary_key=True, nullable=False, default=Sequence('customer_id_seq', metadata=MetaData(bind=None))), Column('FirstName', NVARCHAR(length=40), table=<customers>, nullable=False), Column('LastName', NVARCHAR(length=20), table=<customers>, nullable=False), Column('Company', NVARCHAR(length=80), table=<customers>), Column('Address', NVARCHAR(length=70), table=<customers>), Column('Phone', NVARCHAR(length=24), table=<customers>), Column('Email', NVARCHAR(length=60), table=<customers>, nullable=False), schema=None),\n",
              "              '__tablename__': 'customers',\n",
              "              '_sa_class_manager': <ClassManager of <class '__main__.Customer'> at 7f274a8b7f68>})"
            ]
          },
          "metadata": {
            "tags": []
          },
          "execution_count": 39
        }
      ]
    },
    {
      "cell_type": "code",
      "metadata": {
        "colab": {
          "base_uri": "https://localhost:8080/"
        },
        "id": "OGszDoPtFLQA",
        "outputId": "3f19046b-968e-41f7-8606-6c599ea4e1a0"
      },
      "source": [
        "list_info = session.query(Customer).all()"
      ],
      "execution_count": 40,
      "outputs": [
        {
          "output_type": "stream",
          "text": [
            "2020-12-15 17:53:07,449 INFO sqlalchemy.engine.base.Engine BEGIN (implicit)\n",
            "2020-12-15 17:53:07,450 INFO sqlalchemy.engine.base.Engine SELECT customers.\"CustomerId\" AS \"customers_CustomerId\", customers.\"FirstName\" AS \"customers_FirstName\", customers.\"LastName\" AS \"customers_LastName\", customers.\"Company\" AS \"customers_Company\", customers.\"Address\" AS \"customers_Address\", customers.\"Phone\" AS \"customers_Phone\", customers.\"Email\" AS \"customers_Email\" \n",
            "FROM customers\n",
            "2020-12-15 17:53:07,453 INFO sqlalchemy.engine.base.Engine ()\n"
          ],
          "name": "stdout"
        }
      ]
    },
    {
      "cell_type": "code",
      "metadata": {
        "colab": {
          "base_uri": "https://localhost:8080/"
        },
        "id": "4j6u2fIpFVy0",
        "outputId": "40f827cb-efcd-4ae4-b74e-a94617f65fef"
      },
      "source": [
        "list_info"
      ],
      "execution_count": 41,
      "outputs": [
        {
          "output_type": "execute_result",
          "data": {
            "text/plain": [
              "[Customer(CustomerId=1, FirstName='Moshe', LastName='Cohen', Company=None, Address='Alenbi 99, Tel Aviv', Phone='053-5556789', Email='moshe@cohen.com'),\n",
              " Customer(CustomerId=2, FirstName='Lisa', LastName='Cohen', Company=None, Address='Alenbi 99, Tel Aviv', Phone='052-1234565', Email='lisa@cohen.com'),\n",
              " Customer(CustomerId=3, FirstName='Nika', LastName='Rave', Company=None, Address='Green st, LA', Phone='330-1234565', Email='Nika@rave.com'),\n",
              " Customer(CustomerId=4, FirstName='Lisa', LastName='White', Company=None, Address='Alenbi 66, Tel Aviv', Phone='062-1234565', Email='lisa@White.com')]"
            ]
          },
          "metadata": {
            "tags": []
          },
          "execution_count": 41
        }
      ]
    },
    {
      "cell_type": "code",
      "metadata": {
        "colab": {
          "base_uri": "https://localhost:8080/"
        },
        "id": "yZFNV21ZF2cm",
        "outputId": "9b737c2c-3b32-4164-dc9f-333e2fd822ba"
      },
      "source": [
        "for id_ in list_info:\n",
        "    print(id_.CustomerId)"
      ],
      "execution_count": 42,
      "outputs": [
        {
          "output_type": "stream",
          "text": [
            "1\n",
            "2\n",
            "3\n",
            "4\n"
          ],
          "name": "stdout"
        }
      ]
    },
    {
      "cell_type": "code",
      "metadata": {
        "id": "r7GBKPbyFtk5"
      },
      "source": [
        "first_info = session.query(Customer.CustomerId)"
      ],
      "execution_count": 43,
      "outputs": []
    },
    {
      "cell_type": "code",
      "metadata": {
        "colab": {
          "base_uri": "https://localhost:8080/"
        },
        "id": "BNG4z4rmFtto",
        "outputId": "aa7f14a8-037e-4b57-d39a-f97dd1c3cfea"
      },
      "source": [
        "first_info"
      ],
      "execution_count": 44,
      "outputs": [
        {
          "output_type": "execute_result",
          "data": {
            "text/plain": [
              "<sqlalchemy.orm.query.Query at 0x7f274a1b14e0>"
            ]
          },
          "metadata": {
            "tags": []
          },
          "execution_count": 44
        }
      ]
    },
    {
      "cell_type": "code",
      "metadata": {
        "id": "EaSs_czPFV7N"
      },
      "source": [
        ""
      ],
      "execution_count": null,
      "outputs": []
    },
    {
      "cell_type": "markdown",
      "metadata": {
        "id": "hQxYclwUubk-"
      },
      "source": [
        "Операторы **desc**, **asc**, **order_by**\n",
        "\n",
        "Оператор SQL ORDER BY выполняет сортировку выходных значений. Оператор SQL ORDER BY можно применять как к числовым столбцам, так и к строковым. В последнем случае, сортировка будет происходить по алфавиту.\n",
        "\n",
        "`ORDER BY column_name [ASC | DESC]`\n",
        "\n",
        "ASC - по возрастанию, DESC - по убыванию"
      ]
    },
    {
      "cell_type": "code",
      "metadata": {
        "id": "3j-tH7eZfCaZ"
      },
      "source": [
        "from sqlalchemy import *"
      ],
      "execution_count": 45,
      "outputs": []
    },
    {
      "cell_type": "code",
      "metadata": {
        "colab": {
          "base_uri": "https://localhost:8080/",
          "height": 230
        },
        "id": "0vrh4XAilaHO",
        "outputId": "3cd4249d-f3d0-4b95-b094-78b85ebb96a5"
      },
      "source": [
        "from sqlalchemy import desc, asc\n",
        "\n",
        "customers_query = select([Customer.FirstName, Customer.LastName, Customer.Email]).order_by(asc(Customer.FirstName), desc(Customer.LastName))\n",
        "#customers_query = customers_query.order_by(asc(Customer.FirstName))\n",
        "\n",
        "display_results(customers_query)"
      ],
      "execution_count": 46,
      "outputs": [
        {
          "output_type": "stream",
          "text": [
            "2020-12-15 17:53:28,735 INFO sqlalchemy.engine.base.OptionEngine SELECT customers.\"FirstName\", customers.\"LastName\", customers.\"Email\" \n",
            "FROM customers ORDER BY customers.\"FirstName\" ASC, customers.\"LastName\" DESC\n",
            "2020-12-15 17:53:28,736 INFO sqlalchemy.engine.base.OptionEngine ()\n"
          ],
          "name": "stdout"
        },
        {
          "output_type": "display_data",
          "data": {
            "text/html": [
              "<div>\n",
              "<style scoped>\n",
              "    .dataframe tbody tr th:only-of-type {\n",
              "        vertical-align: middle;\n",
              "    }\n",
              "\n",
              "    .dataframe tbody tr th {\n",
              "        vertical-align: top;\n",
              "    }\n",
              "\n",
              "    .dataframe thead th {\n",
              "        text-align: right;\n",
              "    }\n",
              "</style>\n",
              "<table border=\"1\" class=\"dataframe\">\n",
              "  <thead>\n",
              "    <tr style=\"text-align: right;\">\n",
              "      <th></th>\n",
              "      <th>FirstName</th>\n",
              "      <th>LastName</th>\n",
              "      <th>Email</th>\n",
              "    </tr>\n",
              "  </thead>\n",
              "  <tbody>\n",
              "    <tr>\n",
              "      <th>0</th>\n",
              "      <td>Lisa</td>\n",
              "      <td>White</td>\n",
              "      <td>lisa@White.com</td>\n",
              "    </tr>\n",
              "    <tr>\n",
              "      <th>1</th>\n",
              "      <td>Lisa</td>\n",
              "      <td>Cohen</td>\n",
              "      <td>lisa@cohen.com</td>\n",
              "    </tr>\n",
              "    <tr>\n",
              "      <th>2</th>\n",
              "      <td>Moshe</td>\n",
              "      <td>Cohen</td>\n",
              "      <td>moshe@cohen.com</td>\n",
              "    </tr>\n",
              "    <tr>\n",
              "      <th>3</th>\n",
              "      <td>Nika</td>\n",
              "      <td>Rave</td>\n",
              "      <td>Nika@rave.com</td>\n",
              "    </tr>\n",
              "  </tbody>\n",
              "</table>\n",
              "</div>"
            ],
            "text/plain": [
              "  FirstName LastName            Email\n",
              "0      Lisa    White   lisa@White.com\n",
              "1      Lisa    Cohen   lisa@cohen.com\n",
              "2     Moshe    Cohen  moshe@cohen.com\n",
              "3      Nika     Rave    Nika@rave.com"
            ]
          },
          "metadata": {
            "tags": []
          }
        }
      ]
    },
    {
      "cell_type": "code",
      "metadata": {
        "colab": {
          "base_uri": "https://localhost:8080/",
          "height": 230
        },
        "id": "3cEc3sCZn8UF",
        "outputId": "e4e7149e-007b-473a-b861-96d979262f07"
      },
      "source": [
        "customers_query = customers_query.order_by(desc(Customer.FirstName))\n",
        "\n",
        "display_results(customers_query)"
      ],
      "execution_count": 47,
      "outputs": [
        {
          "output_type": "stream",
          "text": [
            "2020-12-15 17:53:35,945 INFO sqlalchemy.engine.base.OptionEngine SELECT customers.\"FirstName\", customers.\"LastName\", customers.\"Email\" \n",
            "FROM customers ORDER BY customers.\"FirstName\" ASC, customers.\"LastName\" DESC, customers.\"FirstName\" DESC\n",
            "2020-12-15 17:53:35,947 INFO sqlalchemy.engine.base.OptionEngine ()\n"
          ],
          "name": "stdout"
        },
        {
          "output_type": "display_data",
          "data": {
            "text/html": [
              "<div>\n",
              "<style scoped>\n",
              "    .dataframe tbody tr th:only-of-type {\n",
              "        vertical-align: middle;\n",
              "    }\n",
              "\n",
              "    .dataframe tbody tr th {\n",
              "        vertical-align: top;\n",
              "    }\n",
              "\n",
              "    .dataframe thead th {\n",
              "        text-align: right;\n",
              "    }\n",
              "</style>\n",
              "<table border=\"1\" class=\"dataframe\">\n",
              "  <thead>\n",
              "    <tr style=\"text-align: right;\">\n",
              "      <th></th>\n",
              "      <th>FirstName</th>\n",
              "      <th>LastName</th>\n",
              "      <th>Email</th>\n",
              "    </tr>\n",
              "  </thead>\n",
              "  <tbody>\n",
              "    <tr>\n",
              "      <th>0</th>\n",
              "      <td>Lisa</td>\n",
              "      <td>White</td>\n",
              "      <td>lisa@White.com</td>\n",
              "    </tr>\n",
              "    <tr>\n",
              "      <th>1</th>\n",
              "      <td>Lisa</td>\n",
              "      <td>Cohen</td>\n",
              "      <td>lisa@cohen.com</td>\n",
              "    </tr>\n",
              "    <tr>\n",
              "      <th>2</th>\n",
              "      <td>Moshe</td>\n",
              "      <td>Cohen</td>\n",
              "      <td>moshe@cohen.com</td>\n",
              "    </tr>\n",
              "    <tr>\n",
              "      <th>3</th>\n",
              "      <td>Nika</td>\n",
              "      <td>Rave</td>\n",
              "      <td>Nika@rave.com</td>\n",
              "    </tr>\n",
              "  </tbody>\n",
              "</table>\n",
              "</div>"
            ],
            "text/plain": [
              "  FirstName LastName            Email\n",
              "0      Lisa    White   lisa@White.com\n",
              "1      Lisa    Cohen   lisa@cohen.com\n",
              "2     Moshe    Cohen  moshe@cohen.com\n",
              "3      Nika     Rave    Nika@rave.com"
            ]
          },
          "metadata": {
            "tags": []
          }
        }
      ]
    },
    {
      "cell_type": "markdown",
      "metadata": {
        "id": "_JfBzH4FuYxd"
      },
      "source": [
        "**where**\n",
        "Оператор SQL WHERE служит для задания дополнительного условия выборки, операций вставки, редактирования и удаления записей.\n",
        "\n",
        "`where condition`"
      ]
    },
    {
      "cell_type": "code",
      "metadata": {
        "colab": {
          "base_uri": "https://localhost:8080/",
          "height": 186
        },
        "id": "FBvycyqmsheX",
        "outputId": "14bc20cd-c126-4c3f-b239-9964db145793"
      },
      "source": [
        "customers_query = select([Customer.FirstName, Customer.LastName, Customer.Email])\n",
        "customers_query = customers_query.where(Customer.FirstName == 'Lisa')\n",
        "\n",
        "display_results(customers_query)"
      ],
      "execution_count": 48,
      "outputs": [
        {
          "output_type": "stream",
          "text": [
            "2020-12-15 17:53:45,548 INFO sqlalchemy.engine.base.OptionEngine SELECT customers.\"FirstName\", customers.\"LastName\", customers.\"Email\" \n",
            "FROM customers \n",
            "WHERE customers.\"FirstName\" = ?\n",
            "2020-12-15 17:53:45,550 INFO sqlalchemy.engine.base.OptionEngine ('Lisa',)\n"
          ],
          "name": "stdout"
        },
        {
          "output_type": "display_data",
          "data": {
            "text/html": [
              "<div>\n",
              "<style scoped>\n",
              "    .dataframe tbody tr th:only-of-type {\n",
              "        vertical-align: middle;\n",
              "    }\n",
              "\n",
              "    .dataframe tbody tr th {\n",
              "        vertical-align: top;\n",
              "    }\n",
              "\n",
              "    .dataframe thead th {\n",
              "        text-align: right;\n",
              "    }\n",
              "</style>\n",
              "<table border=\"1\" class=\"dataframe\">\n",
              "  <thead>\n",
              "    <tr style=\"text-align: right;\">\n",
              "      <th></th>\n",
              "      <th>FirstName</th>\n",
              "      <th>LastName</th>\n",
              "      <th>Email</th>\n",
              "    </tr>\n",
              "  </thead>\n",
              "  <tbody>\n",
              "    <tr>\n",
              "      <th>0</th>\n",
              "      <td>Lisa</td>\n",
              "      <td>Cohen</td>\n",
              "      <td>lisa@cohen.com</td>\n",
              "    </tr>\n",
              "    <tr>\n",
              "      <th>1</th>\n",
              "      <td>Lisa</td>\n",
              "      <td>White</td>\n",
              "      <td>lisa@White.com</td>\n",
              "    </tr>\n",
              "  </tbody>\n",
              "</table>\n",
              "</div>"
            ],
            "text/plain": [
              "  FirstName LastName           Email\n",
              "0      Lisa    Cohen  lisa@cohen.com\n",
              "1      Lisa    White  lisa@White.com"
            ]
          },
          "metadata": {
            "tags": []
          }
        }
      ]
    },
    {
      "cell_type": "code",
      "metadata": {
        "id": "UUJsP93ugxUE"
      },
      "source": [
        "customers_query = select([Customer.FirstName, Customer.LastName, Customer.Email])\n",
        "customers_query = customers_query.where(Customer.FirstName == 'Lisa').order_by(asc(Customer.LastName))"
      ],
      "execution_count": 50,
      "outputs": []
    },
    {
      "cell_type": "code",
      "metadata": {
        "colab": {
          "base_uri": "https://localhost:8080/",
          "height": 186
        },
        "id": "nf78FV4Lga-U",
        "outputId": "6f009be8-2828-4bbe-ca82-61d431115d09"
      },
      "source": [
        "display_results(customers_query)"
      ],
      "execution_count": 51,
      "outputs": [
        {
          "output_type": "stream",
          "text": [
            "2020-12-15 17:53:57,258 INFO sqlalchemy.engine.base.OptionEngine SELECT customers.\"FirstName\", customers.\"LastName\", customers.\"Email\" \n",
            "FROM customers \n",
            "WHERE customers.\"FirstName\" = ? ORDER BY customers.\"LastName\" ASC\n",
            "2020-12-15 17:53:57,259 INFO sqlalchemy.engine.base.OptionEngine ('Lisa',)\n"
          ],
          "name": "stdout"
        },
        {
          "output_type": "display_data",
          "data": {
            "text/html": [
              "<div>\n",
              "<style scoped>\n",
              "    .dataframe tbody tr th:only-of-type {\n",
              "        vertical-align: middle;\n",
              "    }\n",
              "\n",
              "    .dataframe tbody tr th {\n",
              "        vertical-align: top;\n",
              "    }\n",
              "\n",
              "    .dataframe thead th {\n",
              "        text-align: right;\n",
              "    }\n",
              "</style>\n",
              "<table border=\"1\" class=\"dataframe\">\n",
              "  <thead>\n",
              "    <tr style=\"text-align: right;\">\n",
              "      <th></th>\n",
              "      <th>FirstName</th>\n",
              "      <th>LastName</th>\n",
              "      <th>Email</th>\n",
              "    </tr>\n",
              "  </thead>\n",
              "  <tbody>\n",
              "    <tr>\n",
              "      <th>0</th>\n",
              "      <td>Lisa</td>\n",
              "      <td>Cohen</td>\n",
              "      <td>lisa@cohen.com</td>\n",
              "    </tr>\n",
              "    <tr>\n",
              "      <th>1</th>\n",
              "      <td>Lisa</td>\n",
              "      <td>White</td>\n",
              "      <td>lisa@White.com</td>\n",
              "    </tr>\n",
              "  </tbody>\n",
              "</table>\n",
              "</div>"
            ],
            "text/plain": [
              "  FirstName LastName           Email\n",
              "0      Lisa    Cohen  lisa@cohen.com\n",
              "1      Lisa    White  lisa@White.com"
            ]
          },
          "metadata": {
            "tags": []
          }
        }
      ]
    },
    {
      "cell_type": "markdown",
      "metadata": {
        "id": "hSVfs1IPsQl0"
      },
      "source": [
        "Документация по операторам в SQLAchemy:\n",
        "\n",
        "https://docs.sqlalchemy.org/en/13/core/sqlelement.html"
      ]
    },
    {
      "cell_type": "markdown",
      "metadata": {
        "id": "A7oCKgfNlIrD"
      },
      "source": [
        "## SQLAchemy + Pandas"
      ]
    },
    {
      "cell_type": "code",
      "metadata": {
        "id": "qFRX0AbliZNm"
      },
      "source": [
        "import pandas as pd"
      ],
      "execution_count": 52,
      "outputs": []
    },
    {
      "cell_type": "code",
      "metadata": {
        "colab": {
          "base_uri": "https://localhost:8080/",
          "height": 36
        },
        "id": "Hb5nniFklCHb",
        "outputId": "14e52148-f22c-4b17-b7a3-ff83fda79181"
      },
      "source": [
        "#выведем название нашей таблицы\n",
        "Item.__tablename__"
      ],
      "execution_count": 53,
      "outputs": [
        {
          "output_type": "execute_result",
          "data": {
            "application/vnd.google.colaboratory.intrinsic+json": {
              "type": "string"
            },
            "text/plain": [
              "'items'"
            ]
          },
          "metadata": {
            "tags": []
          },
          "execution_count": 53
        }
      ]
    },
    {
      "cell_type": "code",
      "metadata": {
        "colab": {
          "base_uri": "https://localhost:8080/",
          "height": 285
        },
        "id": "47RSBePYiUM2",
        "outputId": "4c293cd7-8b64-4a13-92dd-726b4d3dbd73"
      },
      "source": [
        "df = pd.read_sql('SELECT * FROM customers', conn)\n",
        "df.tail()"
      ],
      "execution_count": 54,
      "outputs": [
        {
          "output_type": "stream",
          "text": [
            "2020-12-15 17:54:14,096 INFO sqlalchemy.engine.base.Engine PRAGMA main.table_info(\"SELECT * FROM customers\")\n",
            "2020-12-15 17:54:14,106 INFO sqlalchemy.engine.base.Engine ()\n",
            "2020-12-15 17:54:14,110 INFO sqlalchemy.engine.base.Engine PRAGMA temp.table_info(\"SELECT * FROM customers\")\n",
            "2020-12-15 17:54:14,116 INFO sqlalchemy.engine.base.Engine ()\n",
            "2020-12-15 17:54:14,121 INFO sqlalchemy.engine.base.Engine SELECT * FROM customers\n",
            "2020-12-15 17:54:14,123 INFO sqlalchemy.engine.base.Engine ()\n"
          ],
          "name": "stdout"
        },
        {
          "output_type": "execute_result",
          "data": {
            "text/html": [
              "<div>\n",
              "<style scoped>\n",
              "    .dataframe tbody tr th:only-of-type {\n",
              "        vertical-align: middle;\n",
              "    }\n",
              "\n",
              "    .dataframe tbody tr th {\n",
              "        vertical-align: top;\n",
              "    }\n",
              "\n",
              "    .dataframe thead th {\n",
              "        text-align: right;\n",
              "    }\n",
              "</style>\n",
              "<table border=\"1\" class=\"dataframe\">\n",
              "  <thead>\n",
              "    <tr style=\"text-align: right;\">\n",
              "      <th></th>\n",
              "      <th>CustomerId</th>\n",
              "      <th>FirstName</th>\n",
              "      <th>LastName</th>\n",
              "      <th>Company</th>\n",
              "      <th>Address</th>\n",
              "      <th>Phone</th>\n",
              "      <th>Email</th>\n",
              "    </tr>\n",
              "  </thead>\n",
              "  <tbody>\n",
              "    <tr>\n",
              "      <th>0</th>\n",
              "      <td>1</td>\n",
              "      <td>Moshe</td>\n",
              "      <td>Cohen</td>\n",
              "      <td>None</td>\n",
              "      <td>Alenbi 99, Tel Aviv</td>\n",
              "      <td>053-5556789</td>\n",
              "      <td>moshe@cohen.com</td>\n",
              "    </tr>\n",
              "    <tr>\n",
              "      <th>1</th>\n",
              "      <td>2</td>\n",
              "      <td>Lisa</td>\n",
              "      <td>Cohen</td>\n",
              "      <td>None</td>\n",
              "      <td>Alenbi 99, Tel Aviv</td>\n",
              "      <td>052-1234565</td>\n",
              "      <td>lisa@cohen.com</td>\n",
              "    </tr>\n",
              "    <tr>\n",
              "      <th>2</th>\n",
              "      <td>3</td>\n",
              "      <td>Nika</td>\n",
              "      <td>Rave</td>\n",
              "      <td>None</td>\n",
              "      <td>Green st, LA</td>\n",
              "      <td>330-1234565</td>\n",
              "      <td>Nika@rave.com</td>\n",
              "    </tr>\n",
              "    <tr>\n",
              "      <th>3</th>\n",
              "      <td>4</td>\n",
              "      <td>Lisa</td>\n",
              "      <td>White</td>\n",
              "      <td>None</td>\n",
              "      <td>Alenbi 66, Tel Aviv</td>\n",
              "      <td>062-1234565</td>\n",
              "      <td>lisa@White.com</td>\n",
              "    </tr>\n",
              "  </tbody>\n",
              "</table>\n",
              "</div>"
            ],
            "text/plain": [
              "   CustomerId FirstName  ...        Phone            Email\n",
              "0           1     Moshe  ...  053-5556789  moshe@cohen.com\n",
              "1           2      Lisa  ...  052-1234565   lisa@cohen.com\n",
              "2           3      Nika  ...  330-1234565    Nika@rave.com\n",
              "3           4      Lisa  ...  062-1234565   lisa@White.com\n",
              "\n",
              "[4 rows x 7 columns]"
            ]
          },
          "metadata": {
            "tags": []
          },
          "execution_count": 54
        }
      ]
    },
    {
      "cell_type": "code",
      "metadata": {
        "colab": {
          "base_uri": "https://localhost:8080/",
          "height": 671
        },
        "id": "8N_pMxycvWZ7",
        "outputId": "3a0e9bd9-60a8-4ae0-f1de-0c35b98e6a97"
      },
      "source": [
        "# Если хотим получить отсортированные значения - ключевая команда ORDER BY\n",
        "sql = \"\"\"\n",
        "SELECT \n",
        "    *\n",
        "FROM\n",
        "    customers\n",
        "ORDER BY \n",
        "    LastName ASC;\n",
        "\"\"\"\n",
        "df = pd.read_sql(sql, conn)\n",
        "\n",
        "df.head()"
      ],
      "execution_count": 55,
      "outputs": [
        {
          "output_type": "stream",
          "text": [
            "2020-12-15 17:54:33,583 INFO sqlalchemy.engine.base.Engine PRAGMA main.table_info(\"\n",
            "SELECT \n",
            "    *\n",
            "FROM\n",
            "    customers\n",
            "ORDER BY \n",
            "    LastName ASC;\n",
            "\")\n",
            "2020-12-15 17:54:33,584 INFO sqlalchemy.engine.base.Engine ()\n",
            "2020-12-15 17:54:33,585 INFO sqlalchemy.engine.base.Engine PRAGMA temp.table_info(\"\n",
            "SELECT \n",
            "    *\n",
            "FROM\n",
            "    customers\n",
            "ORDER BY \n",
            "    LastName ASC;\n",
            "\")\n",
            "2020-12-15 17:54:33,589 INFO sqlalchemy.engine.base.Engine ()\n",
            "2020-12-15 17:54:33,590 INFO sqlalchemy.engine.base.Engine \n",
            "SELECT \n",
            "    *\n",
            "FROM\n",
            "    customers\n",
            "ORDER BY \n",
            "    LastName ASC;\n",
            "\n",
            "2020-12-15 17:54:33,590 INFO sqlalchemy.engine.base.Engine ()\n"
          ],
          "name": "stdout"
        },
        {
          "output_type": "execute_result",
          "data": {
            "text/html": [
              "<div>\n",
              "<style scoped>\n",
              "    .dataframe tbody tr th:only-of-type {\n",
              "        vertical-align: middle;\n",
              "    }\n",
              "\n",
              "    .dataframe tbody tr th {\n",
              "        vertical-align: top;\n",
              "    }\n",
              "\n",
              "    .dataframe thead th {\n",
              "        text-align: right;\n",
              "    }\n",
              "</style>\n",
              "<table border=\"1\" class=\"dataframe\">\n",
              "  <thead>\n",
              "    <tr style=\"text-align: right;\">\n",
              "      <th></th>\n",
              "      <th>CustomerId</th>\n",
              "      <th>FirstName</th>\n",
              "      <th>LastName</th>\n",
              "      <th>Company</th>\n",
              "      <th>Address</th>\n",
              "      <th>Phone</th>\n",
              "      <th>Email</th>\n",
              "    </tr>\n",
              "  </thead>\n",
              "  <tbody>\n",
              "    <tr>\n",
              "      <th>0</th>\n",
              "      <td>1</td>\n",
              "      <td>Moshe</td>\n",
              "      <td>Cohen</td>\n",
              "      <td>None</td>\n",
              "      <td>Alenbi 99, Tel Aviv</td>\n",
              "      <td>053-5556789</td>\n",
              "      <td>moshe@cohen.com</td>\n",
              "    </tr>\n",
              "    <tr>\n",
              "      <th>1</th>\n",
              "      <td>2</td>\n",
              "      <td>Lisa</td>\n",
              "      <td>Cohen</td>\n",
              "      <td>None</td>\n",
              "      <td>Alenbi 99, Tel Aviv</td>\n",
              "      <td>052-1234565</td>\n",
              "      <td>lisa@cohen.com</td>\n",
              "    </tr>\n",
              "    <tr>\n",
              "      <th>2</th>\n",
              "      <td>3</td>\n",
              "      <td>Nika</td>\n",
              "      <td>Rave</td>\n",
              "      <td>None</td>\n",
              "      <td>Green st, LA</td>\n",
              "      <td>330-1234565</td>\n",
              "      <td>Nika@rave.com</td>\n",
              "    </tr>\n",
              "    <tr>\n",
              "      <th>3</th>\n",
              "      <td>4</td>\n",
              "      <td>Lisa</td>\n",
              "      <td>White</td>\n",
              "      <td>None</td>\n",
              "      <td>Alenbi 66, Tel Aviv</td>\n",
              "      <td>062-1234565</td>\n",
              "      <td>lisa@White.com</td>\n",
              "    </tr>\n",
              "  </tbody>\n",
              "</table>\n",
              "</div>"
            ],
            "text/plain": [
              "   CustomerId FirstName  ...        Phone            Email\n",
              "0           1     Moshe  ...  053-5556789  moshe@cohen.com\n",
              "1           2      Lisa  ...  052-1234565   lisa@cohen.com\n",
              "2           3      Nika  ...  330-1234565    Nika@rave.com\n",
              "3           4      Lisa  ...  062-1234565   lisa@White.com\n",
              "\n",
              "[4 rows x 7 columns]"
            ]
          },
          "metadata": {
            "tags": []
          },
          "execution_count": 55
        }
      ]
    },
    {
      "cell_type": "code",
      "metadata": {
        "colab": {
          "base_uri": "https://localhost:8080/",
          "height": 639
        },
        "id": "-UA9_QlHf0ne",
        "outputId": "93b2807f-d69e-4fc5-8933-74345a10d3ad"
      },
      "source": [
        "# Если хотим получить уникальные значения - ключевая команда DISTINCT\n",
        "df = pd.read_sql(\"\"\"\n",
        "SELECT \n",
        "    DISTINCT LastName\n",
        "FROM\n",
        "    customers\n",
        "ORDER BY \n",
        "    LastName;\n",
        "\"\"\", conn)\n",
        "\n",
        "df.head()"
      ],
      "execution_count": 56,
      "outputs": [
        {
          "output_type": "stream",
          "text": [
            "2020-12-15 17:54:44,996 INFO sqlalchemy.engine.base.Engine PRAGMA main.table_info(\"\n",
            "SELECT \n",
            "    DISTINCT LastName\n",
            "FROM\n",
            "    customers\n",
            "ORDER BY \n",
            "    LastName;\n",
            "\")\n",
            "2020-12-15 17:54:44,997 INFO sqlalchemy.engine.base.Engine ()\n",
            "2020-12-15 17:54:44,998 INFO sqlalchemy.engine.base.Engine PRAGMA temp.table_info(\"\n",
            "SELECT \n",
            "    DISTINCT LastName\n",
            "FROM\n",
            "    customers\n",
            "ORDER BY \n",
            "    LastName;\n",
            "\")\n",
            "2020-12-15 17:54:45,001 INFO sqlalchemy.engine.base.Engine ()\n",
            "2020-12-15 17:54:45,002 INFO sqlalchemy.engine.base.Engine \n",
            "SELECT \n",
            "    DISTINCT LastName\n",
            "FROM\n",
            "    customers\n",
            "ORDER BY \n",
            "    LastName;\n",
            "\n",
            "2020-12-15 17:54:45,005 INFO sqlalchemy.engine.base.Engine ()\n"
          ],
          "name": "stdout"
        },
        {
          "output_type": "execute_result",
          "data": {
            "text/html": [
              "<div>\n",
              "<style scoped>\n",
              "    .dataframe tbody tr th:only-of-type {\n",
              "        vertical-align: middle;\n",
              "    }\n",
              "\n",
              "    .dataframe tbody tr th {\n",
              "        vertical-align: top;\n",
              "    }\n",
              "\n",
              "    .dataframe thead th {\n",
              "        text-align: right;\n",
              "    }\n",
              "</style>\n",
              "<table border=\"1\" class=\"dataframe\">\n",
              "  <thead>\n",
              "    <tr style=\"text-align: right;\">\n",
              "      <th></th>\n",
              "      <th>LastName</th>\n",
              "    </tr>\n",
              "  </thead>\n",
              "  <tbody>\n",
              "    <tr>\n",
              "      <th>0</th>\n",
              "      <td>Cohen</td>\n",
              "    </tr>\n",
              "    <tr>\n",
              "      <th>1</th>\n",
              "      <td>Rave</td>\n",
              "    </tr>\n",
              "    <tr>\n",
              "      <th>2</th>\n",
              "      <td>White</td>\n",
              "    </tr>\n",
              "  </tbody>\n",
              "</table>\n",
              "</div>"
            ],
            "text/plain": [
              "  LastName\n",
              "0    Cohen\n",
              "1     Rave\n",
              "2    White"
            ]
          },
          "metadata": {
            "tags": []
          },
          "execution_count": 56
        }
      ]
    },
    {
      "cell_type": "markdown",
      "metadata": {
        "id": "mckZNlhL2NLq"
      },
      "source": [
        "# ДЗ\n",
        " Дедлайн **15.12.2020, 23:59**\n",
        "  \n",
        "- Решить первые 20 задач с сайта https://www.sql-ex.ru (Раздел SELECT(обучающий этап)). Оценивается пропорционально кол-ву выполненных задач. + 20 % (еще 15 задач)\n",
        "\n",
        "- Дополнить таблицу 'items' и 'purchases' 5ью экземплярами (каждую) на Ваш Выбор. Важно: они должны быть привязаны к существующим покупателям Lisa, Nika, Moshe.\n",
        "- При помощи запроса SQLAlchemy вывести все покупки Lisa. Вывести тоже самое при помощи Pandas."
      ]
    },
    {
      "cell_type": "markdown",
      "metadata": {
        "id": "fykV6I7tkAPK"
      },
      "source": [
        "\n",
        "<center><img src='https://github.com/ddvika/Data-Science-School-2020/blob/main/lecture_5/imgs/i-know-sql.jpg?raw=true'></center>"
      ]
    },
    {
      "cell_type": "code",
      "metadata": {
        "id": "5c34MwqpkCeh",
        "colab": {
          "base_uri": "https://localhost:8080/",
          "height": 961
        },
        "outputId": "73eaecea-b7e0-40db-dbf2-2377a876a785"
      },
      "source": [
        "    Laptop = Item(\r\n",
        "    Name='Omen HP', \r\n",
        "    Price = '80000')\r\n",
        "session.add(Laptop)\r\n",
        "session.commit()\r\n",
        "    PC = Item(\r\n",
        "    Name='Athlon', \r\n",
        "    Price = '50000')\r\n",
        "session.add(PC)\r\n",
        "session.commit()\r\n",
        "    Smartphone = Item(\r\n",
        "    Name='Samsung', \r\n",
        "    Price = '25000')\r\n",
        "session.add(Smartphone)\r\n",
        "session.commit()\r\n",
        "    Toy = Item(\r\n",
        "    Name='Cyberpank', \r\n",
        "    Price = '2000')\r\n",
        "session.add(Toy)\r\n",
        "session.commit()\r\n",
        "    Mouse = Item(\r\n",
        "    Name='Bloody', \r\n",
        "    Price = '5000')\r\n",
        "session.add(Mouse)\r\n",
        "session.commit()\r\n",
        "\r\n",
        "items_query = select([Item.Name, Item.Price])\r\n",
        "items_query = items_query.where(Item.Price > 10).order_by(asc(Item.Name))\r\n",
        "\r\n",
        "display_results(items_query)"
      ],
      "execution_count": 58,
      "outputs": [
        {
          "output_type": "stream",
          "text": [
            "2020-12-15 18:30:36,383 INFO sqlalchemy.engine.base.Engine BEGIN (implicit)\n",
            "2020-12-15 18:30:36,384 INFO sqlalchemy.engine.base.Engine INSERT INTO items (\"Name\", \"Price\") VALUES (?, ?)\n",
            "2020-12-15 18:30:36,386 INFO sqlalchemy.engine.base.Engine ('Omen HP', 80000.0)\n",
            "2020-12-15 18:30:36,389 INFO sqlalchemy.engine.base.Engine COMMIT\n",
            "2020-12-15 18:30:36,393 INFO sqlalchemy.engine.base.Engine BEGIN (implicit)\n",
            "2020-12-15 18:30:36,394 INFO sqlalchemy.engine.base.Engine INSERT INTO items (\"Name\", \"Price\") VALUES (?, ?)\n",
            "2020-12-15 18:30:36,395 INFO sqlalchemy.engine.base.Engine ('Athlon', 50000.0)\n",
            "2020-12-15 18:30:36,397 INFO sqlalchemy.engine.base.Engine COMMIT\n",
            "2020-12-15 18:30:36,401 INFO sqlalchemy.engine.base.Engine BEGIN (implicit)\n",
            "2020-12-15 18:30:36,403 INFO sqlalchemy.engine.base.Engine INSERT INTO items (\"Name\", \"Price\") VALUES (?, ?)\n",
            "2020-12-15 18:30:36,404 INFO sqlalchemy.engine.base.Engine ('Samsung', 25000.0)\n",
            "2020-12-15 18:30:36,406 INFO sqlalchemy.engine.base.Engine COMMIT\n",
            "2020-12-15 18:30:36,408 INFO sqlalchemy.engine.base.Engine BEGIN (implicit)\n",
            "2020-12-15 18:30:36,412 INFO sqlalchemy.engine.base.Engine INSERT INTO items (\"Name\", \"Price\") VALUES (?, ?)\n",
            "2020-12-15 18:30:36,413 INFO sqlalchemy.engine.base.Engine ('Cyberpank', 2000.0)\n",
            "2020-12-15 18:30:36,415 INFO sqlalchemy.engine.base.Engine COMMIT\n",
            "2020-12-15 18:30:36,422 INFO sqlalchemy.engine.base.Engine BEGIN (implicit)\n",
            "2020-12-15 18:30:36,426 INFO sqlalchemy.engine.base.Engine INSERT INTO items (\"Name\", \"Price\") VALUES (?, ?)\n",
            "2020-12-15 18:30:36,427 INFO sqlalchemy.engine.base.Engine ('Bloody', 5000.0)\n",
            "2020-12-15 18:30:36,428 INFO sqlalchemy.engine.base.Engine COMMIT\n",
            "2020-12-15 18:30:36,431 INFO sqlalchemy.engine.base.OptionEngine SELECT items.\"Name\", items.\"Price\" \n",
            "FROM items \n",
            "WHERE items.\"Price\" > ? ORDER BY items.\"Name\" ASC\n",
            "2020-12-15 18:30:36,431 INFO sqlalchemy.engine.base.OptionEngine (280,)\n"
          ],
          "name": "stdout"
        },
        {
          "output_type": "display_data",
          "data": {
            "text/html": [
              "<div>\n",
              "<style scoped>\n",
              "    .dataframe tbody tr th:only-of-type {\n",
              "        vertical-align: middle;\n",
              "    }\n",
              "\n",
              "    .dataframe tbody tr th {\n",
              "        vertical-align: top;\n",
              "    }\n",
              "\n",
              "    .dataframe thead th {\n",
              "        text-align: right;\n",
              "    }\n",
              "</style>\n",
              "<table border=\"1\" class=\"dataframe\">\n",
              "  <thead>\n",
              "    <tr style=\"text-align: right;\">\n",
              "      <th></th>\n",
              "      <th>Name</th>\n",
              "      <th>Price</th>\n",
              "    </tr>\n",
              "  </thead>\n",
              "  <tbody>\n",
              "    <tr>\n",
              "      <th>0</th>\n",
              "      <td>Athlon</td>\n",
              "      <td>50000.0</td>\n",
              "    </tr>\n",
              "    <tr>\n",
              "      <th>1</th>\n",
              "      <td>Athlon</td>\n",
              "      <td>50000.0</td>\n",
              "    </tr>\n",
              "    <tr>\n",
              "      <th>2</th>\n",
              "      <td>Bloody</td>\n",
              "      <td>5000.0</td>\n",
              "    </tr>\n",
              "    <tr>\n",
              "      <th>3</th>\n",
              "      <td>Bloody</td>\n",
              "      <td>5000.0</td>\n",
              "    </tr>\n",
              "    <tr>\n",
              "      <th>4</th>\n",
              "      <td>Cyberpank</td>\n",
              "      <td>2000.0</td>\n",
              "    </tr>\n",
              "    <tr>\n",
              "      <th>5</th>\n",
              "      <td>Cyberpank</td>\n",
              "      <td>2000.0</td>\n",
              "    </tr>\n",
              "    <tr>\n",
              "      <th>6</th>\n",
              "      <td>Omen HP</td>\n",
              "      <td>80000.0</td>\n",
              "    </tr>\n",
              "    <tr>\n",
              "      <th>7</th>\n",
              "      <td>Omen HP</td>\n",
              "      <td>80000.0</td>\n",
              "    </tr>\n",
              "    <tr>\n",
              "      <th>8</th>\n",
              "      <td>Omen HP</td>\n",
              "      <td>80000.0</td>\n",
              "    </tr>\n",
              "    <tr>\n",
              "      <th>9</th>\n",
              "      <td>Omen HP</td>\n",
              "      <td>80000.0</td>\n",
              "    </tr>\n",
              "    <tr>\n",
              "      <th>10</th>\n",
              "      <td>Omen HP</td>\n",
              "      <td>80000.0</td>\n",
              "    </tr>\n",
              "    <tr>\n",
              "      <th>11</th>\n",
              "      <td>Omen HP</td>\n",
              "      <td>80000.0</td>\n",
              "    </tr>\n",
              "    <tr>\n",
              "      <th>12</th>\n",
              "      <td>Omen HP</td>\n",
              "      <td>80000.0</td>\n",
              "    </tr>\n",
              "    <tr>\n",
              "      <th>13</th>\n",
              "      <td>Samsung</td>\n",
              "      <td>25000.0</td>\n",
              "    </tr>\n",
              "    <tr>\n",
              "      <th>14</th>\n",
              "      <td>Samsung</td>\n",
              "      <td>25000.0</td>\n",
              "    </tr>\n",
              "  </tbody>\n",
              "</table>\n",
              "</div>"
            ],
            "text/plain": [
              "         Name    Price\n",
              "0      Athlon  50000.0\n",
              "1      Athlon  50000.0\n",
              "2      Bloody   5000.0\n",
              "3      Bloody   5000.0\n",
              "4   Cyberpank   2000.0\n",
              "5   Cyberpank   2000.0\n",
              "6     Omen HP  80000.0\n",
              "7     Omen HP  80000.0\n",
              "8     Omen HP  80000.0\n",
              "9     Omen HP  80000.0\n",
              "10    Omen HP  80000.0\n",
              "11    Omen HP  80000.0\n",
              "12    Omen HP  80000.0\n",
              "13    Samsung  25000.0\n",
              "14    Samsung  25000.0"
            ]
          },
          "metadata": {
            "tags": []
          }
        }
      ]
    },
    {
      "cell_type": "code",
      "metadata": {
        "colab": {
          "base_uri": "https://localhost:8080/"
        },
        "id": "y1qyymxOq7kp",
        "outputId": "7477a81b-0687-4381-b54c-55ea45f9d793"
      },
      "source": [
        "from datetime import datetime, date, time\r\n",
        "fiskal1 = Purchase(\r\n",
        "    ItemId= '3', \r\n",
        "    CustomerId='4',\r\n",
        "    Date = date(2020, 12, 11) )\r\n",
        "session.add(fiskal1)\r\n",
        "session.commit()\r\n",
        "fiskal2 = Purchase(\r\n",
        "    ItemId= '6', \r\n",
        "    CustomerId='1',\r\n",
        "    Date = date(2020, 11, 12) )\r\n",
        "session.add(fiskal2)\r\n",
        "session.commit()\r\n",
        "fiskal3 = Purchase(\r\n",
        "    ItemId= '11', \r\n",
        "    CustomerId='1',\r\n",
        "    Date = date(2020, 12, 12) )\r\n",
        "session.add(fiskal3)\r\n",
        "session.commit()\r\n",
        "fiskal4 = Purchase(\r\n",
        "    ItemId= '13', \r\n",
        "    CustomerId='2',\r\n",
        "    Date = date(2020, 10, 22) )\r\n",
        "session.add(fiskal4)\r\n",
        "session.commit()\r\n",
        "fiskal5 = Purchase(\r\n",
        "    ItemId= '4', \r\n",
        "    CustomerId='3',\r\n",
        "    Date = date(2020, 11, 15) )\r\n",
        "session.add(fiskal5)\r\n",
        "session.commit()\r\n"
      ],
      "execution_count": 60,
      "outputs": [
        {
          "output_type": "stream",
          "text": [
            "2020-12-15 18:37:32,200 INFO sqlalchemy.engine.base.Engine BEGIN (implicit)\n",
            "2020-12-15 18:37:32,203 INFO sqlalchemy.engine.base.Engine INSERT INTO purchases (\"ItemId\", \"CustomerId\", \"Date\") VALUES (?, ?, ?)\n",
            "2020-12-15 18:37:32,204 INFO sqlalchemy.engine.base.Engine ('3', '4', '2020-12-11 00:00:00.000000')\n",
            "2020-12-15 18:37:32,206 INFO sqlalchemy.engine.base.Engine COMMIT\n",
            "2020-12-15 18:37:32,209 INFO sqlalchemy.engine.base.Engine BEGIN (implicit)\n",
            "2020-12-15 18:37:32,210 INFO sqlalchemy.engine.base.Engine INSERT INTO purchases (\"ItemId\", \"CustomerId\", \"Date\") VALUES (?, ?, ?)\n",
            "2020-12-15 18:37:32,212 INFO sqlalchemy.engine.base.Engine ('6', '1', '2020-11-12 00:00:00.000000')\n",
            "2020-12-15 18:37:32,214 INFO sqlalchemy.engine.base.Engine COMMIT\n",
            "2020-12-15 18:37:32,216 INFO sqlalchemy.engine.base.Engine BEGIN (implicit)\n",
            "2020-12-15 18:37:32,217 INFO sqlalchemy.engine.base.Engine INSERT INTO purchases (\"ItemId\", \"CustomerId\", \"Date\") VALUES (?, ?, ?)\n",
            "2020-12-15 18:37:32,219 INFO sqlalchemy.engine.base.Engine ('11', '1', '2020-12-12 00:00:00.000000')\n",
            "2020-12-15 18:37:32,226 INFO sqlalchemy.engine.base.Engine COMMIT\n",
            "2020-12-15 18:37:32,230 INFO sqlalchemy.engine.base.Engine BEGIN (implicit)\n",
            "2020-12-15 18:37:32,232 INFO sqlalchemy.engine.base.Engine INSERT INTO purchases (\"ItemId\", \"CustomerId\", \"Date\") VALUES (?, ?, ?)\n",
            "2020-12-15 18:37:32,233 INFO sqlalchemy.engine.base.Engine ('13', '2', '2020-10-22 00:00:00.000000')\n",
            "2020-12-15 18:37:32,235 INFO sqlalchemy.engine.base.Engine COMMIT\n",
            "2020-12-15 18:37:32,238 INFO sqlalchemy.engine.base.Engine BEGIN (implicit)\n",
            "2020-12-15 18:37:32,240 INFO sqlalchemy.engine.base.Engine INSERT INTO purchases (\"ItemId\", \"CustomerId\", \"Date\") VALUES (?, ?, ?)\n",
            "2020-12-15 18:37:32,242 INFO sqlalchemy.engine.base.Engine ('4', '3', '2020-11-15 00:00:00.000000')\n",
            "2020-12-15 18:37:32,243 INFO sqlalchemy.engine.base.Engine COMMIT\n"
          ],
          "name": "stdout"
        }
      ]
    }
  ]
}