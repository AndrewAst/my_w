{
  "nbformat": 4,
  "nbformat_minor": 0,
  "metadata": {
    "colab": {
      "name": "Копия блокнота \"Part_1_HW_Write_our_own_library.ipynb\"",
      "provenance": [],
      "collapsed_sections": []
    },
    "kernelspec": {
      "name": "python3",
      "display_name": "Python 3"
    }
  },
  "cells": [
    {
      "cell_type": "markdown",
      "metadata": {
        "id": "-PkQ9hSoulSP"
      },
      "source": [
        "##https://colab.research.google.com/drive/1k02vqIxrLciLjWkTa3M4r9-jziw8uULc?usp=sharing\n",
        "## Домашнее задание. Часть 1.\n",
        "\n",
        "- напишем свою собственную библиотеку\n",
        "\n",
        "Вего за эту часть ДЗ можно набрать максимум **11.5 баллов**. Разбиение баллов по каждой из задач представлено непосредственно перед текстом каждой задачи.\n",
        "\n",
        "**Дедлайн - пятница, 11.12.2020 в 23:59.**\n",
        "\n",
        "Дедлайн жесткий, сдача после дедлайна - 0 баллов за ДЗ."
      ]
    },
    {
      "cell_type": "markdown",
      "metadata": {
        "id": "raMUrDs_OUUp"
      },
      "source": [
        "Ссылка на ноутбук в колабе: https://colab.research.google.com/drive/1LgWtESFmiNW1WlVFCHKyNl_BxAWxoL3Z?usp=sharing"
      ]
    },
    {
      "cell_type": "markdown",
      "metadata": {
        "id": "DlJPKMxvBZDq"
      },
      "source": [
        "Допустим мы хотим написать фнкцию, которая складывает 2 числа и сохранить ее в отдельный .py файл. Пример:"
      ]
    },
    {
      "cell_type": "code",
      "metadata": {
        "colab": {
          "base_uri": "https://localhost:8080/"
        },
        "id": "YWxx_tJFBWXc",
        "outputId": "8a761583-e25f-486f-d55c-0c0d313294c2"
      },
      "source": [
        "%%writefile lib.py\n",
        "def summ(a1, b1):\n",
        "    return a1+b1"
      ],
      "execution_count": 26,
      "outputs": [
        {
          "output_type": "stream",
          "text": [
            "Overwriting lib.py\n"
          ],
          "name": "stdout"
        }
      ]
    },
    {
      "cell_type": "code",
      "metadata": {
        "id": "GpwqwV2XBWe0"
      },
      "source": [
        "from lib import summ"
      ],
      "execution_count": 27,
      "outputs": []
    },
    {
      "cell_type": "code",
      "metadata": {
        "colab": {
          "base_uri": "https://localhost:8080/"
        },
        "id": "PdSwrEkYud_1",
        "outputId": "c45e65ea-06dd-44d0-c37d-d936337718a7"
      },
      "source": [
        "summ(2,6)"
      ],
      "execution_count": 28,
      "outputs": [
        {
          "output_type": "execute_result",
          "data": {
            "text/plain": [
              "8"
            ]
          },
          "metadata": {
            "tags": []
          },
          "execution_count": 28
        }
      ]
    },
    {
      "cell_type": "markdown",
      "metadata": {
        "id": "lzVEq6dcB_B6"
      },
      "source": [
        "Попробуем запустить через \"терминал\""
      ]
    },
    {
      "cell_type": "code",
      "metadata": {
        "id": "GnvjY52dB9F0"
      },
      "source": [
        "!python3 lib.py"
      ],
      "execution_count": 29,
      "outputs": []
    },
    {
      "cell_type": "markdown",
      "metadata": {
        "id": "12k4C-iDCGD5"
      },
      "source": [
        "Ничего не происходит. А теперь добавим `if __name__ == \"__main__\"` в наш код и пересохраним файл lib.py"
      ]
    },
    {
      "cell_type": "code",
      "metadata": {
        "colab": {
          "base_uri": "https://localhost:8080/"
        },
        "id": "EXxDy4EoujyT",
        "outputId": "ad1f913b-146d-4e8d-aae0-95bf8502e7e8"
      },
      "source": [
        "%%writefile lib.py\n",
        "import sys\n",
        "\n",
        "a1 = float( sys.argv[1] ) # Считываем аргументы прямо из терминала\n",
        "b1 = float( sys.argv[2] ) # Считываем аргументы прямо из терминала\n",
        "\n",
        "def summ(a1, b1):\n",
        "    return a1+b1\n",
        "\n",
        "if __name__ == \"__main__\":\n",
        "    print(summ(a1, b1))\n"
      ],
      "execution_count": 30,
      "outputs": [
        {
          "output_type": "stream",
          "text": [
            "Overwriting lib.py\n"
          ],
          "name": "stdout"
        }
      ]
    },
    {
      "cell_type": "code",
      "metadata": {
        "colab": {
          "base_uri": "https://localhost:8080/"
        },
        "id": "9kg9IKcWuj1F",
        "outputId": "7c2d966e-ebd4-45fb-a742-ef7ca21789ce"
      },
      "source": [
        "!python3 lib.py 2 4"
      ],
      "execution_count": 31,
      "outputs": [
        {
          "output_type": "stream",
          "text": [
            "6.0\n"
          ],
          "name": "stdout"
        }
      ]
    },
    {
      "cell_type": "markdown",
      "metadata": {
        "id": "MEQd0OJnD4ut"
      },
      "source": [
        "# **Задание 1**\n",
        "\n",
        "Реализуйте следующие функции и сохраните их в библиотеку **my_math_lib.py** (пока без использования конструкции `if __name__ == \"__main__\"`)"
      ]
    },
    {
      "cell_type": "markdown",
      "metadata": {
        "id": "-irvYNmrD9FA"
      },
      "source": [
        "**1 point** \n",
        "1. **def deg_to_rad()**. Напишите программу на Python для преобразования градусов в радианы.  *(Note: Радиан - это стандартная единица измерения угла, используемая во многих областях математики. Измерение угла в радианах численно равно длине соответствующей дуги единичного круга; один радиан чуть меньше 57,3 градуса)* **1 point**\n",
        "\n",
        "**1 point** \n",
        "2. **def rad_to_def()**. Напишите программу Python для преобразования радианов в градусы.\n",
        "\n",
        "**1.5 point** \n",
        "3. **def discriminant()**. Напишите программу на Python для вычисления значения дискриминанта (вспоминаем квадратные уравнения). Входные данные три числа: x, y, z (учтите что корни могут быть комлЕксными!)\n",
        "\n",
        "**1.5 point** \n",
        "4. **def power_base_sum()**. Напишите программу на Python, чтобы вычислить сумму всех цифр основания в указанной степени.\n",
        "\n",
        "Пример: power_base_sum(2, 100)\n",
        "\n",
        "Выход: 115\n",
        "\n",
        "\n",
        "\n",
        "**2 point** \n",
        "5. **def magic_square()**. Напишите программу на Python для вычисления [магического квадрата](https://ru.wikipedia.org/wiki/Магический_квадрат)\n",
        "\n",
        "Note:\n",
        "\n",
        "Магический, или волшебный квадрат — это квадратная таблица , заполненная числами таким образом, что сумма чисел в каждой строке, каждом столбце и на обеих диагоналях одинакова. Сумма чисел в каждой строке, столбце и на диагоналях, называется магической константой, M.\n",
        "\n",
        "**1 point** \n",
        "6. **def mult_list()**. Напишите функцию Python для умножения всех чисел в массиве list(), (размер листа на входе произвольный)\n",
        "\n",
        "**1 point** \n",
        "7. **def create_list()**. Напишите функцию Python для создания и вывода списка (при помощи print()), в котором значения представляют собой квадрат чисел от 1 до 30 (оба включительно)."
      ]
    },
    {
      "cell_type": "code",
      "metadata": {
        "id": "cxjYPNRAIBqe",
        "colab": {
          "base_uri": "https://localhost:8080/"
        },
        "outputId": "ea80b04f-9418-4086-b57c-c96534bc9d43"
      },
      "source": [
        "%%writefile my_math_lib.py\r\n",
        "import math, sys\r\n",
        "#Напишите программу на Python для преобразования градусов в радианы.\r\n",
        "def rad_to_def(f: float) -> float:\r\n",
        "  return math.pi * f / 180\r\n",
        "\r\n",
        "#Напишите программу Python для преобразования радианов в градусы.\r\n",
        "def rad_to_def(f: float) -> float:\r\n",
        "  return 180 * f / math.pi\r\n",
        "\r\n",
        "#Напишите программу на Python для вычисления значения дискриминанта \r\n",
        "def discriminant(a: float, b = 0, c = 0) -> float:\r\n",
        "  return b ** 2 - 4 * a * c\r\n",
        "\r\n",
        "#Напишите программу на Python, чтобы вычислить сумму всех цифр основания в указанной степени.\r\n",
        "def power_base_sum(x: int, degree = 0) -> int:\r\n",
        "    sum = 0\r\n",
        "    result = str(int(x) ** int(degree))\r\n",
        "    for num in result:\r\n",
        "        sum += int(num)\r\n",
        "    return sum\r\n",
        "\r\n",
        "#Напишите программу на Python для вычисления магического квадрата\r\n",
        "def magic_square(n):\r\n",
        "        num=(n*((n*n)+1))/2\r\n",
        "        print('nThe Magic Number Is-',num,'n')\r\n",
        "        f=[]\r\n",
        "        for i in range(0,n):\r\n",
        "            a=[]\r\n",
        "            for j in range(0,n):\r\n",
        "                a.append(0)\r\n",
        "            f.append(a)\r\n",
        "        (x,i,p,q)=(n*n,1,int(n/2),n-1)\r\n",
        "        while x!=0:\r\n",
        "            if x==0:\r\n",
        "                (f[p][q],i,p,q,x)=(i,i+1,p-1,q+1,x-1)\r\n",
        "                continue\r\n",
        "            else:\r\n",
        "                if p==-1 and q==n:\r\n",
        "                    p=0\r\n",
        "                    q=n-2\r\n",
        "                    if f[p][q]==0:\r\n",
        "                        (f[p][q],i,p,q,x)=(i,i+1,p-1,q+1,x-1)\r\n",
        "                        continue\r\n",
        "                    else:\r\n",
        "                        p=p+1\r\n",
        "                        q=q-2\r\n",
        "                        f[p][q]=i\r\n",
        "                        i=i+1\r\n",
        "                        p=p-1\r\n",
        "                        q=q+1\r\n",
        "                        x=x-1\r\n",
        "                        continue\r\n",
        "                if p==-1:\r\n",
        "                    p=n-1\r\n",
        "                    if f[p][q]==0:\r\n",
        "                        (f[p][q],i,p,q,x)=(i,i+1,p-1,q+1,x-1)\r\n",
        "                        continue\r\n",
        "                    else:\r\n",
        "                        p=p+1\r\n",
        "                        q=q-2\r\n",
        "                        f[p][q]=i\r\n",
        "                        i=i+1\r\n",
        "                        p=p-1\r\n",
        "                        q=q+1\r\n",
        "                        x=x-1\r\n",
        "                        continue\r\n",
        "                if q==n:\r\n",
        "                    q=0\r\n",
        "                    if f[p][q]==0:\r\n",
        "                        (f[p][q],i,p,q,x)=(i,i+1,p-1,q+1,x-1)\r\n",
        "                        continue\r\n",
        "                    else:\r\n",
        "                        p=p+1\r\n",
        "                        q=q-2\r\n",
        "                        f[p][q]=i\r\n",
        "                        i=i+1\r\n",
        "                        p=p-1\r\n",
        "                        q=q+1\r\n",
        "                        x=x-1\r\n",
        "                        continue\r\n",
        "                else:\r\n",
        "                    if f[p][q]==0:\r\n",
        "                        (f[p][q],i,p,q,x)=(i,i+1,p-1,q+1,x-1)\r\n",
        "                        continue\r\n",
        "                    else:\r\n",
        "                        p=p+1\r\n",
        "                        q=q-2\r\n",
        "                        f[p][q]=i\r\n",
        "                        i=i+1\r\n",
        "                        p=p-1\r\n",
        "                        q=q+1\r\n",
        "                        x=x-1\r\n",
        "                        continue\r\n",
        "        for i in range(len(f)):\r\n",
        "            for j in range(len(f[i])):\r\n",
        "              print(f[i][j] ,end = \"   \")\r\n",
        "            print(n)\r\n",
        "\r\n",
        "#Напишите функцию Python для умножения всех чисел в массиве list(), (размер листа на входе произвольный)\r\n",
        "def mult_list(numbers: list) -> float:\r\n",
        "    mult = 1\r\n",
        "    for num in numbers:\r\n",
        "        mult *= num\r\n",
        "    return mult\r\n",
        "\r\n",
        "#Напишите функцию Python для создания и вывода списка (при помощи print()), в котором значения представляют собой квадрат чисел от 1 до 30 (оба включительно).\r\n",
        "def create_list() -> list:\r\n",
        "  return list([i ** 2 for i in range(1, 31)])\r\n"
      ],
      "execution_count": 64,
      "outputs": [
        {
          "output_type": "stream",
          "text": [
            "Overwriting my_math_lib.py\n"
          ],
          "name": "stdout"
        }
      ]
    },
    {
      "cell_type": "markdown",
      "metadata": {
        "id": "cSdLK3ZSID3B"
      },
      "source": [
        "# **Задание 2**\n",
        "Импортируйте все методы из модуля my_math_lib.\n",
        "\n",
        " **0.25 point** \n",
        " - при помощи функции **def discriminant()** посчитайте дискриминант следующего уравнения: \n",
        " $x^{2}+3 x+4=0$\n",
        "\n",
        "**0.25 point** \n",
        " - постройте магический квадрат размера 5х5"
      ]
    },
    {
      "cell_type": "code",
      "metadata": {
        "id": "k1Jhjs6FD8Sy"
      },
      "source": [
        "from my_math_lib import discriminant\r\n",
        "discriminant(1, 3, 4)"
      ],
      "execution_count": 55,
      "outputs": []
    },
    {
      "cell_type": "code",
      "metadata": {
        "id": "y9dNUwjHLaNR"
      },
      "source": [
        "from my_math_lib import magic_square\r\n",
        "magic_square (5)"
      ],
      "execution_count": null,
      "outputs": []
    },
    {
      "cell_type": "markdown",
      "metadata": {
        "id": "1xqoQlZkId3s"
      },
      "source": [
        "# **Задание 3**\n",
        "\n",
        "**2 point**\n",
        "* Добавьте в вашу библиотеку конструкцию `if __name__ == \"__main__\"`, которая должна принимать одну из вышеперечисленных функций. \n",
        "* Важно! аргументы, подаваемые в функцию, должны подаваться напряму через терминал (как в примере)! Используйте для этого библиотеку `sys`"
      ]
    },
    {
      "cell_type": "code",
      "metadata": {
        "id": "CPMx4V4DJIVx",
        "colab": {
          "base_uri": "https://localhost:8080/"
        },
        "outputId": "e5504bc6-31a1-4825-dc4c-b4198165b669"
      },
      "source": [
        "%%writefile my_math_lib.py\r\n",
        "import math, sys, scipy\r\n",
        "import scipy.stats\r\n",
        "#Напишите программу на Python для преобразования градусов в радианы.\r\n",
        "def rad_to_def(f: float) -> float:\r\n",
        "  return math.pi * f / 180\r\n",
        "\r\n",
        "#Напишите программу Python для преобразования радианов в градусы.\r\n",
        "def rad_to_def(f: float) -> float:\r\n",
        "  return 180 * f / math.pi\r\n",
        "\r\n",
        "#Напишите программу на Python для вычисления значения дискриминанта \r\n",
        "def discriminant(a: float, b = 0, c = 0) -> float:\r\n",
        "  return b ** 2 - 4 * a * c\r\n",
        "\r\n",
        "#Напишите программу на Python, чтобы вычислить сумму всех цифр основания в указанной степени.\r\n",
        "def power_base_sum(x: int, degree = 0) -> int:\r\n",
        "    sum = 0\r\n",
        "    result = str(int(x) ** int(degree))\r\n",
        "    for num in result:\r\n",
        "        sum += int(num)\r\n",
        "    return sum\r\n",
        "\r\n",
        "#Напишите программу на Python для вычисления магического квадрата\r\n",
        "def magic_square(n):\r\n",
        "        num=(n*((n*n)+1))/2\r\n",
        "        print('nThe Magic Number Is-',num,'n')\r\n",
        "        f=[]\r\n",
        "        for i in range(0,n):\r\n",
        "            a=[]\r\n",
        "            for j in range(0,n):\r\n",
        "                a.append(0)\r\n",
        "            f.append(a)\r\n",
        "        (x,i,p,q)=(n*n,1,int(n/2),n-1)\r\n",
        "        while x!=0:\r\n",
        "            if x==0:\r\n",
        "                (f[p][q],i,p,q,x)=(i,i+1,p-1,q+1,x-1)\r\n",
        "                continue\r\n",
        "            else:\r\n",
        "                if p==-1 and q==n:\r\n",
        "                    p=0\r\n",
        "                    q=n-2\r\n",
        "                    if f[p][q]==0:\r\n",
        "                        (f[p][q],i,p,q,x)=(i,i+1,p-1,q+1,x-1)\r\n",
        "                        continue\r\n",
        "                    else:\r\n",
        "                        p=p+1\r\n",
        "                        q=q-2\r\n",
        "                        f[p][q]=i\r\n",
        "                        i=i+1\r\n",
        "                        p=p-1\r\n",
        "                        q=q+1\r\n",
        "                        x=x-1\r\n",
        "                        continue\r\n",
        "                if p==-1:\r\n",
        "                    p=n-1\r\n",
        "                    if f[p][q]==0:\r\n",
        "                        (f[p][q],i,p,q,x)=(i,i+1,p-1,q+1,x-1)\r\n",
        "                        continue\r\n",
        "                    else:\r\n",
        "                        p=p+1\r\n",
        "                        q=q-2\r\n",
        "                        f[p][q]=i\r\n",
        "                        i=i+1\r\n",
        "                        p=p-1\r\n",
        "                        q=q+1\r\n",
        "                        x=x-1\r\n",
        "                        continue\r\n",
        "                if q==n:\r\n",
        "                    q=0\r\n",
        "                    if f[p][q]==0:\r\n",
        "                        (f[p][q],i,p,q,x)=(i,i+1,p-1,q+1,x-1)\r\n",
        "                        continue\r\n",
        "                    else:\r\n",
        "                        p=p+1\r\n",
        "                        q=q-2\r\n",
        "                        f[p][q]=i\r\n",
        "                        i=i+1\r\n",
        "                        p=p-1\r\n",
        "                        q=q+1\r\n",
        "                        x=x-1\r\n",
        "                        continue\r\n",
        "                else:\r\n",
        "                    if f[p][q]==0:\r\n",
        "                        (f[p][q],i,p,q,x)=(i,i+1,p-1,q+1,x-1)\r\n",
        "                        continue\r\n",
        "                    else:\r\n",
        "                        p=p+1\r\n",
        "                        q=q-2\r\n",
        "                        f[p][q]=i\r\n",
        "                        i=i+1\r\n",
        "                        p=p-1\r\n",
        "                        q=q+1\r\n",
        "                        x=x-1\r\n",
        "                        continue\r\n",
        "        for i in range(len(f)):\r\n",
        "            for j in range(len(f[i])):\r\n",
        "              print(f[i][j] ,end = \"   \")\r\n",
        "            print(n)\r\n",
        "#Напишите функцию Python для умножения всех чисел в массиве list(), (размер листа на входе произвольный)\r\n",
        "def mult_list(numbers: list) -> float:\r\n",
        "    mult = 1\r\n",
        "    for num in numbers:\r\n",
        "        mult *= num\r\n",
        "    return mult\r\n",
        "\r\n",
        "#Напишите функцию Python для создания и вывода списка (при помощи print()), в котором значения представляют собой квадрат чисел от 1 до 30 (оба включительно).\r\n",
        "def create_list() -> list:\r\n",
        "  return list([i ** 2 for i in range(1, 31)])\r\n",
        "\r\n",
        "#Добавьте в вашу библиотеку конструкцию if __name__ == \"__main__\"\r\n",
        "if __name__ == '__main__':\r\n",
        "\r\n",
        "    b = float(sys.argv[2]) if len(sys.argv[2:]) > 0 else 0\r\n",
        "    c = float(sys.argv[3]) if len(sys.argv[2:]) > 1 else 0\r\n",
        "\r\n",
        "    print(discriminant( float(sys.argv[1]), b, c))"
      ],
      "execution_count": 65,
      "outputs": [
        {
          "output_type": "stream",
          "text": [
            "Overwriting my_math_lib.py\n"
          ],
          "name": "stdout"
        }
      ]
    },
    {
      "cell_type": "code",
      "metadata": {
        "id": "RAeJ3p1BJX05",
        "colab": {
          "base_uri": "https://localhost:8080/"
        },
        "outputId": "865c5ce2-6799-4717-afb4-375dd4707f72"
      },
      "source": [
        "# Пример вызова функции - Вы можете вызвать любую другую\n",
        "!python3 my_math_lib.py 3 4 5 # Например если в __main__ вы указали def discriminant()"
      ],
      "execution_count": 66,
      "outputs": [
        {
          "output_type": "stream",
          "text": [
            "-44.0\n"
          ],
          "name": "stdout"
        }
      ]
    },
    {
      "cell_type": "code",
      "metadata": {
        "id": "UDQ_wTJbJAS7"
      },
      "source": [
        ""
      ],
      "execution_count": null,
      "outputs": []
    }
  ]
}